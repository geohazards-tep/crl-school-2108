{
 "cells": [
  {
   "cell_type": "markdown",
   "metadata": {},
   "source": [
    "## 01 - Earthquake discovrey"
   ]
  },
  {
   "cell_type": "markdown",
   "metadata": {},
   "source": [
    "The **py_earthquake** Python module wraps the USGS Earthquake Catalog and provides a simple approach for discovering earthquakes using an area of interest, a time of interest and a minimum magnitude.\n",
    "\n",
    "It returns the list of earthquakes with information about each entry"
   ]
  },
  {
   "cell_type": "markdown",
   "metadata": {},
   "source": [
    "* First import the Python modules"
   ]
  },
  {
   "cell_type": "code",
   "execution_count": 79,
   "metadata": {},
   "outputs": [],
   "source": [
    "import py_earthquakes\n",
    "from shapely.geometry import box\n",
    "from shapely.wkt import loads\n",
    "import folium\n",
    "import numpy as np\n",
    "import os\n",
    "from IPython.core.display import display, HTML"
   ]
  },
  {
   "cell_type": "markdown",
   "metadata": {},
   "source": [
    "* Define an area of interest"
   ]
  },
  {
   "cell_type": "markdown",
   "metadata": {},
   "source": [
    "The area of interest is defined as a bounding box with four parameters:\n",
    "\n",
    "* minimum longitude\n",
    "* minimum latitude\n",
    "* maximum longitude\n",
    "* maximum latitude"
   ]
  },
  {
   "cell_type": "code",
   "execution_count": 62,
   "metadata": {},
   "outputs": [],
   "source": [
    "bounding_box = [20, 39, 22, 41]"
   ]
  },
  {
   "cell_type": "markdown",
   "metadata": {},
   "source": [
    "* Plot the area of interest on a map"
   ]
  },
  {
   "cell_type": "code",
   "execution_count": 63,
   "metadata": {},
   "outputs": [],
   "source": [
    "bbox = box(bounding_box[0],\n",
    "           bounding_box[1],\n",
    "           bounding_box[2],\n",
    "           bounding_box[3])"
   ]
  },
  {
   "cell_type": "markdown",
   "metadata": {},
   "source": [
    "Get the Well-Know Text of the bounding box: "
   ]
  },
  {
   "cell_type": "code",
   "execution_count": 64,
   "metadata": {},
   "outputs": [
    {
     "data": {
      "text/plain": [
       "'POLYGON ((22 39, 22 41, 20 41, 20 39, 22 39))'"
      ]
     },
     "execution_count": 64,
     "metadata": {},
     "output_type": "execute_result"
    }
   ],
   "source": [
    "bbox.wkt"
   ]
  },
  {
   "cell_type": "markdown",
   "metadata": {},
   "source": [
    "Now, plot the area of interest on the map:"
   ]
  },
  {
   "cell_type": "code",
   "execution_count": 65,
   "metadata": {},
   "outputs": [
    {
     "data": {
      "text/html": [
       "<div style=\"width:100%;\"><div style=\"position:relative;width:100%;height:0;padding-bottom:60%;\"><iframe src=\"data:text/html;charset=utf-8;base64,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\" style=\"position:absolute;width:100%;height:100%;left:0;top:0;border:none !important;\" allowfullscreen webkitallowfullscreen mozallowfullscreen></iframe></div></div>"
      ],
      "text/plain": [
       "<folium.folium.Map at 0x7f208a82ab90>"
      ]
     },
     "execution_count": 65,
     "metadata": {},
     "output_type": "execute_result"
    }
   ],
   "source": [
    "lat = (bounding_box[1] + bounding_box[3])/2\n",
    "lon = (bounding_box[0] + bounding_box[2])/2\n",
    "\n",
    "zoom_start = 7\n",
    "\n",
    "m = folium.Map(location=[lat, lon], zoom_start=zoom_start)\n",
    "\n",
    "folium.PolyLine(\n",
    "    locations=np.asarray([t[::-1] for t in list(loads(bbox.wkt).exterior.coords)]).tolist(),\n",
    "    color='black',\n",
    "    weight=2,\n",
    "    tooltip='Area of interest',\n",
    ").add_to(m)\n",
    "\n",
    "\n",
    "m.save(os.path.join('maps', 'eq_search.html'))\n",
    "\n",
    "m"
   ]
  },
  {
   "cell_type": "markdown",
   "metadata": {},
   "source": [
    "* Define a time of interest and the minimum magnitude:"
   ]
  },
  {
   "cell_type": "code",
   "execution_count": 66,
   "metadata": {},
   "outputs": [],
   "source": [
    "min_mag = 4\n",
    "\n",
    "start_date = '2016-10-01'\n",
    "\n",
    "stop_date = '2016-11-30'"
   ]
  },
  {
   "cell_type": "markdown",
   "metadata": {},
   "source": [
    "* Search for earthquake events with the magnitude of at least 4, over the area of interest and during the time of interest:"
   ]
  },
  {
   "cell_type": "code",
   "execution_count": 67,
   "metadata": {},
   "outputs": [],
   "source": [
    "eq_search = py_earthquakes.EarthQuakes(start_date,\n",
    "                                       stop_date,\n",
    "                                       min_mag=min_mag,\n",
    "                                       bbox=bounding_box)"
   ]
  },
  {
   "cell_type": "markdown",
   "metadata": {},
   "source": [
    "There is one event: "
   ]
  },
  {
   "cell_type": "code",
   "execution_count": 68,
   "metadata": {},
   "outputs": [
    {
     "data": {
      "text/plain": [
       "29"
      ]
     },
     "execution_count": 68,
     "metadata": {},
     "output_type": "execute_result"
    }
   ],
   "source": [
    "len(eq_search.earthquakes)"
   ]
  },
  {
   "cell_type": "markdown",
   "metadata": {},
   "source": [
    "Get information about the event:"
   ]
  },
  {
   "cell_type": "code",
   "execution_count": 95,
   "metadata": {},
   "outputs": [
    {
     "name": "stdout",
     "output_type": "stream",
     "text": [
      "M 4.5 - 9km NW of Rodotopion, Greece\n",
      "us20007els\n",
      "2016-10-16T18:44:04.530000Z\n",
      "POINT(20.6459 39.7731)\n"
     ]
    }
   ],
   "source": [
    "print eq_search.earthquakes[5].title\n",
    "print eq_search.earthquakes[5].id\n",
    "print eq_search.earthquakes[5].date\n",
    "print eq_search.earthquakes[5].wkt"
   ]
  },
  {
   "cell_type": "markdown",
   "metadata": {},
   "source": [
    "Update the map with the discovered earthquake event:"
   ]
  },
  {
   "cell_type": "code",
   "execution_count": 96,
   "metadata": {},
   "outputs": [
    {
     "data": {
      "text/html": [
       "<div style=\"width:100%;\"><div style=\"position:relative;width:100%;height:0;padding-bottom:60%;\"><iframe src=\"data:text/html;charset=utf-8;base64,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\" style=\"position:absolute;width:100%;height:100%;left:0;top:0;border:none !important;\" allowfullscreen webkitallowfullscreen mozallowfullscreen></iframe></div></div>"
      ],
      "text/plain": [
       "<folium.folium.Map at 0x7f208a8dfd10>"
      ]
     },
     "execution_count": 96,
     "metadata": {},
     "output_type": "execute_result"
    }
   ],
   "source": [
    "lat = (bounding_box[1] + bounding_box[3])/2\n",
    "lon = (bounding_box[0] + bounding_box[2])/2\n",
    "\n",
    "zoom_start = 7\n",
    "\n",
    "m = folium.Map(location=[lat, lon], zoom_start=zoom_start)\n",
    "\n",
    "folium.PolyLine(\n",
    "    locations=np.asarray([t[::-1] for t in list(loads(bbox.wkt).exterior.coords)]).tolist(),\n",
    "    color='black',\n",
    "    weight=2,\n",
    "    tooltip='Area of interest',\n",
    ").add_to(m)\n",
    "\n",
    "radius = 4\n",
    "folium.CircleMarker(\n",
    "    location=[loads(eq_search.earthquakes[0].wkt).y,\n",
    "              loads(eq_search.earthquakes[0].wkt).x],\n",
    "    radius=radius,\n",
    "    color='#FF0000',\n",
    "    stroke=False,\n",
    "    fill=True,\n",
    "    fill_opacity=1,\n",
    "    opacity=1,\n",
    "    popup='{} pixels'.format(radius),\n",
    "    tooltip=eq_search.earthquakes[0].title,\n",
    ").add_to(m)\n",
    "\n",
    "m.save(os.path.join('maps', 'eq_search.html'))\n",
    "\n",
    "m"
   ]
  },
  {
   "cell_type": "code",
   "execution_count": 97,
   "metadata": {},
   "outputs": [
    {
     "name": "stdout",
     "output_type": "stream",
     "text": [
      "https://earthquake.usgs.gov/earthquakes/eventpage/us20007fsi\n"
     ]
    }
   ],
   "source": [
    "print eq_search.earthquakes[5].url"
   ]
  },
  {
   "cell_type": "code",
   "execution_count": 98,
   "metadata": {},
   "outputs": [
    {
     "data": {
      "text/plain": [
       "'https://earthquake.usgs.gov/earthquakes/eventpage/us20007fsi'"
      ]
     },
     "execution_count": 98,
     "metadata": {},
     "output_type": "execute_result"
    }
   ],
   "source": [
    "eq_search.earthquakes[5].url"
   ]
  },
  {
   "cell_type": "markdown",
   "metadata": {},
   "source": [
    "* Finally show the USGS HTML page link"
   ]
  },
  {
   "cell_type": "code",
   "execution_count": 99,
   "metadata": {},
   "outputs": [
    {
     "name": "stdout",
     "output_type": "stream",
     "text": [
      "Here's the earthquake event USGS link:\n"
     ]
    },
    {
     "data": {
      "text/html": [
       "<a href='https://earthquake.usgs.gov/earthquakes/eventpage/us20007els' target='_blank'>M 4.5 - 9km NW of Rodotopion, Greece</a>"
      ],
      "text/plain": [
       "<IPython.core.display.HTML object>"
      ]
     },
     "metadata": {},
     "output_type": "display_data"
    }
   ],
   "source": [
    "print(\"Here's the earthquake event USGS link:\")\n",
    "display(HTML(\"<a href='%s' target='_blank'>%s</a>\" % (eq_search.earthquakes[5].url, eq_search.earthquakes[5].title)))"
   ]
  },
  {
   "cell_type": "markdown",
   "metadata": {},
   "source": [
    "## License"
   ]
  },
  {
   "cell_type": "markdown",
   "metadata": {},
   "source": [
    "This work is licenced under a [Attribution-ShareAlike 4.0 International License (CC BY-SA 4.0)](http://creativecommons.org/licenses/by-sa/4.0/) \n",
    "\n",
    "YOU ARE FREE TO:\n",
    "\n",
    "* Share - copy and redistribute the material in any medium or format.\n",
    "* Adapt - remix, transform, and built upon the material for any purpose, even commercially.\n",
    "\n",
    "UNDER THE FOLLOWING TERMS:\n",
    "\n",
    "* Attribution - You must give appropriate credit, provide a link to the license, and indicate if changes were made. You may do so in any reasonable manner, but not in any way that suggests the licensor endorses you or your use.\n",
    "* ShareAlike - If you remix, transform, or build upon the material, you must distribute your contributions under the same license as the original."
   ]
  },
  {
   "cell_type": "code",
   "execution_count": null,
   "metadata": {},
   "outputs": [],
   "source": []
  }
 ],
 "metadata": {
  "kernelspec": {
   "display_name": "Python 2",
   "language": "python",
   "name": "python2"
  },
  "language_info": {
   "codemirror_mode": {
    "name": "ipython",
    "version": 2
   },
   "file_extension": ".py",
   "mimetype": "text/x-python",
   "name": "python",
   "nbconvert_exporter": "python",
   "pygments_lexer": "ipython2",
   "version": "2.7.12"
  }
 },
 "nbformat": 4,
 "nbformat_minor": 2
}
