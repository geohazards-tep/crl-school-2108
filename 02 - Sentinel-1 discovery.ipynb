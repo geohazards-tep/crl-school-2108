{
 "cells": [
  {
   "cell_type": "markdown",
   "metadata": {},
   "source": [
    "## 02 - Discover Sentinel-1 pairs for pre-seismic and coseismic coherence change analysis"
   ]
  },
  {
   "cell_type": "markdown",
   "metadata": {},
   "source": [
    "* Import the Python packages"
   ]
  },
  {
   "cell_type": "code",
   "execution_count": 1,
   "metadata": {
    "collapsed": true
   },
   "outputs": [],
   "source": [
    "%matplotlib inline\n",
    "\n",
    "import warnings\n",
    "warnings.filterwarnings(\"ignore\")\n",
    "import os\n",
    "import sys\n",
    "import glob\n",
    "\n",
    "import cioppy\n",
    "ciop = cioppy.Cioppy()\n",
    "\n",
    "import numpy as np\n",
    "import matplotlib\n",
    "import matplotlib.pyplot as plt\n",
    "import matplotlib.colors as colors\n",
    "\n",
    "from snappy import jpy\n",
    "from snappy import ProductIO\n",
    "from snappy import GPF\n",
    "from snappy import HashMap\n",
    "\n",
    "import gc\n",
    "\n",
    "from shapely.geometry import box\n",
    "from shapely.wkt import loads  \n",
    "\n",
    "import py_earthquakes\n",
    "\n",
    "from datetime import datetime, timedelta\n",
    "import dateutil.parser\n",
    "\n",
    "import geopandas as gp\n",
    "\n",
    "import folium"
   ]
  },
  {
   "cell_type": "markdown",
   "metadata": {},
   "source": [
    "* Use an earthquake"
   ]
  },
  {
   "cell_type": "code",
   "execution_count": 27,
   "metadata": {
    "collapsed": true
   },
   "outputs": [],
   "source": [
    "bounding_box = [20, 39, 22, 41]\n",
    "\n",
    "bbox = box(bounding_box[0],\n",
    "           bounding_box[1],\n",
    "           bounding_box[2],\n",
    "           bounding_box[3])\n",
    "\n",
    "min_mag = 4\n",
    "\n",
    "start_date = '2016-10-01'\n",
    "\n",
    "stop_date = '2016-11-30'"
   ]
  },
  {
   "cell_type": "code",
   "execution_count": 18,
   "metadata": {
    "collapsed": true
   },
   "outputs": [],
   "source": [
    "eq_search = py_earthquakes.EarthQuakes(start_date,\n",
    "                                       stop_date,\n",
    "                                       min_mag=min_mag,\n",
    "                                       bbox=bounding_box)"
   ]
  },
  {
   "cell_type": "code",
   "execution_count": 47,
   "metadata": {},
   "outputs": [],
   "source": [
    "eq_index = 5"
   ]
  },
  {
   "cell_type": "code",
   "execution_count": 48,
   "metadata": {
    "collapsed": false
   },
   "outputs": [
    {
     "name": "stdout",
     "output_type": "stream",
     "text": [
      "M 4.5 - 9km NW of Rodotopion, Greece\n",
      "us20007els\n",
      "2016-10-16T18:44:04.530000Z\n",
      "POINT(20.6459 39.7731)\n"
     ]
    }
   ],
   "source": [
    "print eq_search.earthquakes[eq_index].title\n",
    "print eq_search.earthquakes[eq_index].id\n",
    "print eq_search.earthquakes[eq_index].date\n",
    "print eq_search.earthquakes[eq_index].wkt"
   ]
  },
  {
   "cell_type": "markdown",
   "metadata": {},
   "source": [
    "Create a buffer of 0.5 degrees around the selected earthquake event "
   ]
  },
  {
   "cell_type": "code",
   "execution_count": 23,
   "metadata": {
    "collapsed": false
   },
   "outputs": [
    {
     "data": {
      "text/plain": [
       "'POINT(20.6459 39.7731)'"
      ]
     },
     "execution_count": 23,
     "metadata": {},
     "output_type": "execute_result"
    }
   ],
   "source": [
    "eq_search.earthquakes[eq_index].wkt"
   ]
  },
  {
   "cell_type": "code",
   "execution_count": 24,
   "metadata": {
    "collapsed": true
   },
   "outputs": [],
   "source": [
    "aoi_wkt = box(*loads(eq_search.earthquakes[eq_index].wkt).buffer(0.5).bounds).wkt"
   ]
  },
  {
   "cell_type": "code",
   "execution_count": 25,
   "metadata": {
    "collapsed": false
   },
   "outputs": [
    {
     "data": {
      "text/plain": [
       "'POLYGON ((21.1459 39.2731, 21.1459 40.2731, 20.1459 40.2731, 20.1459 39.2731, 21.1459 39.2731))'"
      ]
     },
     "execution_count": 25,
     "metadata": {},
     "output_type": "execute_result"
    }
   ],
   "source": [
    "aoi_wkt"
   ]
  },
  {
   "cell_type": "code",
   "execution_count": 30,
   "metadata": {},
   "outputs": [
    {
     "data": {
      "text/html": [
       "<div style=\"width:100%;\"><div style=\"position:relative;width:100%;height:0;padding-bottom:60%;\"><iframe src=\"data:text/html;charset=utf-8;base64,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\" style=\"position:absolute;width:100%;height:100%;left:0;top:0;border:none !important;\" allowfullscreen webkitallowfullscreen mozallowfullscreen></iframe></div></div>"
      ],
      "text/plain": [
       "<folium.folium.Map at 0x7fa9ed5396d0>"
      ]
     },
     "execution_count": 30,
     "metadata": {},
     "output_type": "execute_result"
    }
   ],
   "source": [
    "lat = (bounding_box[1] + bounding_box[3])/2\n",
    "lon = (bounding_box[0] + bounding_box[2])/2\n",
    "\n",
    "zoom_start = 7\n",
    "\n",
    "m = folium.Map(location=[lat, lon], zoom_start=zoom_start)\n",
    "\n",
    "folium.PolyLine(\n",
    "    locations=np.asarray([t[::-1] for t in list(loads(bbox.wkt).exterior.coords)]).tolist(),\n",
    "    color='black',\n",
    "    weight=2,\n",
    "    tooltip='Area of interest for the earthquake discovery',\n",
    ").add_to(m)\n",
    "\n",
    "radius = 4\n",
    "folium.CircleMarker(\n",
    "    location=[loads(eq_search.earthquakes[eq_index].wkt).y,\n",
    "              loads(eq_search.earthquakes[eq_index].wkt).x],\n",
    "    radius=radius,\n",
    "    color='#FF0000',\n",
    "    stroke=False,\n",
    "    fill=True,\n",
    "    fill_opacity=1,\n",
    "    opacity=1,\n",
    "    popup='{} pixels'.format(radius),\n",
    "    tooltip=eq_search.earthquakes[0].title,\n",
    ").add_to(m)\n",
    "\n",
    "folium.PolyLine(\n",
    "    locations=np.asarray([t[::-1] for t in list(loads(aoi_wkt).exterior.coords)]).tolist(),\n",
    "    color='red',\n",
    "    weight=2,\n",
    "    tooltip='Area of interest for the earthquake discovery',\n",
    ").add_to(m)\n",
    "\n",
    "m.save(os.path.join('maps', 'eq_search.html'))\n",
    "\n",
    "m"
   ]
  },
  {
   "cell_type": "markdown",
   "metadata": {},
   "source": [
    "* Search parameters"
   ]
  },
  {
   "cell_type": "markdown",
   "metadata": {},
   "source": [
    "Set the catalogue endpoint to Sentinel-1:"
   ]
  },
  {
   "cell_type": "code",
   "execution_count": 35,
   "metadata": {
    "collapsed": true
   },
   "outputs": [],
   "source": [
    "series = 'https://catalog.terradue.com/sentinel1/search'"
   ]
  },
  {
   "cell_type": "markdown",
   "metadata": {},
   "source": [
    "Define the end of the time of interest and look for a slave between the event date and six days after:"
   ]
  },
  {
   "cell_type": "code",
   "execution_count": 31,
   "metadata": {
    "collapsed": false
   },
   "outputs": [],
   "source": [
    "slave_search_stop_date = (dateutil.parser.parse(eq_search.earthquakes[eq_index].date) + timedelta(days=6)).isoformat()"
   ]
  },
  {
   "cell_type": "markdown",
   "metadata": {},
   "source": [
    "* Build and submit the catalog search\n"
   ]
  },
  {
   "cell_type": "code",
   "execution_count": 36,
   "metadata": {
    "collapsed": true
   },
   "outputs": [],
   "source": [
    "search_params = dict([('geom', aoi_wkt),\n",
    "                      ('start', eq_search.earthquakes[eq_index].date),\n",
    "                      ('stop', slave_search_stop_date),\n",
    "                      ('pt', 'SLC')])"
   ]
  },
  {
   "cell_type": "code",
   "execution_count": 37,
   "metadata": {
    "collapsed": false
   },
   "outputs": [],
   "source": [
    "slave_search = ciop.search(end_point=series,\n",
    "                           params=search_params,\n",
    "                           output_fields='self,productType,track,enclosure,identifier,wkt,startdate', \n",
    "                           model='EOP')"
   ]
  },
  {
   "cell_type": "markdown",
   "metadata": {},
   "source": [
    "* Put all slaves in a geodataframe and plot the Sentinel-1 slave candidates"
   ]
  },
  {
   "cell_type": "code",
   "execution_count": 38,
   "metadata": {
    "collapsed": true
   },
   "outputs": [],
   "source": [
    "aoi = loads(aoi_wkt)"
   ]
  },
  {
   "cell_type": "code",
   "execution_count": 39,
   "metadata": {
    "collapsed": false
   },
   "outputs": [],
   "source": [
    "result = []\n",
    "\n",
    "locations = []\n",
    "\n",
    "for index, elem in enumerate(slave_search):\n",
    "    \n",
    "    locations.append([t[::-1] for t in list(loads(elem['wkt']).exterior.coords)])\n",
    "    \n",
    "    slave_wkt = loads(elem['wkt'])\n",
    "    \n",
    "    result.append({'self' : elem['self'],\n",
    "                   'identifier' : elem['identifier'],\n",
    "                   'enclosure' : elem['enclosure'],\n",
    "                   'date' : elem['startdate'],\n",
    "                   'wkt': loads(elem['wkt']),\n",
    "                   'aoi_intersec' : (slave_wkt.intersection(aoi).area/aoi.area) * 100,\n",
    "                   'contains': slave_wkt.contains(aoi)\n",
    "                  })\n",
    "    \n",
    "slaves = gp.GeoDataFrame(result)"
   ]
  },
  {
   "cell_type": "code",
   "execution_count": 40,
   "metadata": {},
   "outputs": [
    {
     "data": {
      "text/html": [
       "<div style=\"width:100%;\"><div style=\"position:relative;width:100%;height:0;padding-bottom:60%;\"><iframe src=\"data:text/html;charset=utf-8;base64,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\" style=\"position:absolute;width:100%;height:100%;left:0;top:0;border:none !important;\" allowfullscreen webkitallowfullscreen mozallowfullscreen></iframe></div></div>"
      ],
      "text/plain": [
       "<folium.folium.Map at 0x7fa9ed537390>"
      ]
     },
     "execution_count": 40,
     "metadata": {},
     "output_type": "execute_result"
    }
   ],
   "source": [
    "lat = loads(eq_search.earthquakes[eq_index].wkt).y\n",
    "lon = loads(eq_search.earthquakes[eq_index].wkt).x\n",
    "\n",
    "zoom_start = 7\n",
    "\n",
    "m = folium.Map(location=[lat, lon], zoom_start=zoom_start)\n",
    "\n",
    "radius = 4\n",
    "folium.CircleMarker(\n",
    "    location=[lat, lon],\n",
    "    radius=radius,\n",
    "    color='#FF0000',\n",
    "    stroke=False,\n",
    "    fill=True,\n",
    "    fill_opacity=0.6,\n",
    "    opacity=1,\n",
    "    popup='{} pixels'.format(radius),\n",
    "    tooltip='Earthquake event',\n",
    ").add_to(m)\n",
    "\n",
    "\n",
    "folium.PolyLine(\n",
    "    locations=np.asarray([t[::-1] for t in list(loads(aoi_wkt).exterior.coords)]).tolist(),\n",
    "    color='#FF0000',\n",
    "    weight=2,\n",
    "    tooltip='Sentinel-1 area of interest for discovery',\n",
    ").add_to(m)\n",
    "\n",
    "folium.PolyLine(\n",
    "    locations=locations,\n",
    "    color='orange',\n",
    "    weight=1,\n",
    "    opacity=1,\n",
    "    smooth_factor=0,\n",
    ").add_to(m)\n",
    "\n",
    "m.save(os.path.join('maps', '%s_search.html' % eq_search.earthquakes[eq_index].id))\n",
    "\n",
    "m"
   ]
  },
  {
   "cell_type": "code",
   "execution_count": 41,
   "metadata": {
    "collapsed": false
   },
   "outputs": [
    {
     "data": {
      "text/html": [
       "<div>\n",
       "<style scoped>\n",
       "    .dataframe tbody tr th:only-of-type {\n",
       "        vertical-align: middle;\n",
       "    }\n",
       "\n",
       "    .dataframe tbody tr th {\n",
       "        vertical-align: top;\n",
       "    }\n",
       "\n",
       "    .dataframe thead th {\n",
       "        text-align: right;\n",
       "    }\n",
       "</style>\n",
       "<table border=\"1\" class=\"dataframe\">\n",
       "  <thead>\n",
       "    <tr style=\"text-align: right;\">\n",
       "      <th></th>\n",
       "      <th>aoi_intersec</th>\n",
       "      <th>contains</th>\n",
       "      <th>date</th>\n",
       "      <th>enclosure</th>\n",
       "      <th>identifier</th>\n",
       "      <th>self</th>\n",
       "      <th>wkt</th>\n",
       "    </tr>\n",
       "  </thead>\n",
       "  <tbody>\n",
       "    <tr>\n",
       "      <th>0</th>\n",
       "      <td>93.960487</td>\n",
       "      <td>False</td>\n",
       "      <td>2016-10-18T16:32:06.0438950Z</td>\n",
       "      <td>https://store.terradue.com/download/sentinel1/...</td>\n",
       "      <td>S1A_IW_SLC__1SDV_20161018T163206_20161018T1632...</td>\n",
       "      <td>https://catalog.terradue.com/sentinel1/search?...</td>\n",
       "      <td>POLYGON ((19.368031 40.835575, 22.396507 41.23...</td>\n",
       "    </tr>\n",
       "    <tr>\n",
       "      <th>1</th>\n",
       "      <td>19.306843</td>\n",
       "      <td>False</td>\n",
       "      <td>2016-10-18T16:31:41.2230520Z</td>\n",
       "      <td>https://store.terradue.com/download/sentinel1/...</td>\n",
       "      <td>S1A_IW_SLC__1SDV_20161018T163141_20161018T1632...</td>\n",
       "      <td>https://catalog.terradue.com/sentinel1/search?...</td>\n",
       "      <td>POLYGON ((19.736567 39.342892, 22.70108 39.744...</td>\n",
       "    </tr>\n",
       "    <tr>\n",
       "      <th>2</th>\n",
       "      <td>42.871116</td>\n",
       "      <td>False</td>\n",
       "      <td>2016-10-18T04:38:47.9894800Z</td>\n",
       "      <td>https://store.terradue.com/download/sentinel1/...</td>\n",
       "      <td>S1B_IW_SLC__1SDV_20161018T043847_20161018T0439...</td>\n",
       "      <td>https://catalog.terradue.com/sentinel1/search?...</td>\n",
       "      <td>POLYGON ((22.349596 37.795113, 19.450989 38.19...</td>\n",
       "    </tr>\n",
       "    <tr>\n",
       "      <th>3</th>\n",
       "      <td>70.513769</td>\n",
       "      <td>False</td>\n",
       "      <td>2016-10-18T04:38:22.2086930Z</td>\n",
       "      <td>https://store.terradue.com/download/sentinel1/...</td>\n",
       "      <td>S1B_IW_SLC__1SDV_20161018T043822_20161018T0438...</td>\n",
       "      <td>https://catalog.terradue.com/sentinel1/search?...</td>\n",
       "      <td>POLYGON ((22.729288 39.285404, 19.763023 39.68...</td>\n",
       "    </tr>\n",
       "    <tr>\n",
       "      <th>4</th>\n",
       "      <td>35.270604</td>\n",
       "      <td>False</td>\n",
       "      <td>2016-10-17T16:39:36.7587880Z</td>\n",
       "      <td>https://store.terradue.com/download/sentinel1/...</td>\n",
       "      <td>S1B_IW_SLC__1SDV_20161017T163936_20161017T1640...</td>\n",
       "      <td>https://catalog.terradue.com/sentinel1/search?...</td>\n",
       "      <td>POLYGON ((17.319502 40.773991, 20.347933 41.17...</td>\n",
       "    </tr>\n",
       "    <tr>\n",
       "      <th>5</th>\n",
       "      <td>21.041412</td>\n",
       "      <td>False</td>\n",
       "      <td>2016-10-17T16:39:11.9338340Z</td>\n",
       "      <td>https://store.terradue.com/download/sentinel1/...</td>\n",
       "      <td>S1B_IW_SLC__1SDV_20161017T163911_20161017T1639...</td>\n",
       "      <td>https://catalog.terradue.com/sentinel1/search?...</td>\n",
       "      <td>POLYGON ((17.697649 39.282978, 20.658102 39.68...</td>\n",
       "    </tr>\n",
       "    <tr>\n",
       "      <th>6</th>\n",
       "      <td>27.342190</td>\n",
       "      <td>False</td>\n",
       "      <td>2016-10-17T04:47:39.0485030Z</td>\n",
       "      <td>https://store.terradue.com/download/sentinel1/...</td>\n",
       "      <td>S1A_IW_SLC__1SDV_20161017T044739_20161017T0448...</td>\n",
       "      <td>https://catalog.terradue.com/sentinel1/search?...</td>\n",
       "      <td>POLYGON ((20.356789 38.021778, 17.475241 38.42...</td>\n",
       "    </tr>\n",
       "    <tr>\n",
       "      <th>7</th>\n",
       "      <td>44.418058</td>\n",
       "      <td>False</td>\n",
       "      <td>2016-10-17T04:47:14.2173840Z</td>\n",
       "      <td>https://store.terradue.com/download/sentinel1/...</td>\n",
       "      <td>S1A_IW_SLC__1SDV_20161017T044714_20161017T0447...</td>\n",
       "      <td>https://catalog.terradue.com/sentinel1/search?...</td>\n",
       "      <td>POLYGON ((20.725029 39.57457, 17.784842 39.971...</td>\n",
       "    </tr>\n",
       "  </tbody>\n",
       "</table>\n",
       "</div>"
      ],
      "text/plain": [
       "   aoi_intersec  contains                          date  \\\n",
       "0     93.960487     False  2016-10-18T16:32:06.0438950Z   \n",
       "1     19.306843     False  2016-10-18T16:31:41.2230520Z   \n",
       "2     42.871116     False  2016-10-18T04:38:47.9894800Z   \n",
       "3     70.513769     False  2016-10-18T04:38:22.2086930Z   \n",
       "4     35.270604     False  2016-10-17T16:39:36.7587880Z   \n",
       "5     21.041412     False  2016-10-17T16:39:11.9338340Z   \n",
       "6     27.342190     False  2016-10-17T04:47:39.0485030Z   \n",
       "7     44.418058     False  2016-10-17T04:47:14.2173840Z   \n",
       "\n",
       "                                           enclosure  \\\n",
       "0  https://store.terradue.com/download/sentinel1/...   \n",
       "1  https://store.terradue.com/download/sentinel1/...   \n",
       "2  https://store.terradue.com/download/sentinel1/...   \n",
       "3  https://store.terradue.com/download/sentinel1/...   \n",
       "4  https://store.terradue.com/download/sentinel1/...   \n",
       "5  https://store.terradue.com/download/sentinel1/...   \n",
       "6  https://store.terradue.com/download/sentinel1/...   \n",
       "7  https://store.terradue.com/download/sentinel1/...   \n",
       "\n",
       "                                          identifier  \\\n",
       "0  S1A_IW_SLC__1SDV_20161018T163206_20161018T1632...   \n",
       "1  S1A_IW_SLC__1SDV_20161018T163141_20161018T1632...   \n",
       "2  S1B_IW_SLC__1SDV_20161018T043847_20161018T0439...   \n",
       "3  S1B_IW_SLC__1SDV_20161018T043822_20161018T0438...   \n",
       "4  S1B_IW_SLC__1SDV_20161017T163936_20161017T1640...   \n",
       "5  S1B_IW_SLC__1SDV_20161017T163911_20161017T1639...   \n",
       "6  S1A_IW_SLC__1SDV_20161017T044739_20161017T0448...   \n",
       "7  S1A_IW_SLC__1SDV_20161017T044714_20161017T0447...   \n",
       "\n",
       "                                                self  \\\n",
       "0  https://catalog.terradue.com/sentinel1/search?...   \n",
       "1  https://catalog.terradue.com/sentinel1/search?...   \n",
       "2  https://catalog.terradue.com/sentinel1/search?...   \n",
       "3  https://catalog.terradue.com/sentinel1/search?...   \n",
       "4  https://catalog.terradue.com/sentinel1/search?...   \n",
       "5  https://catalog.terradue.com/sentinel1/search?...   \n",
       "6  https://catalog.terradue.com/sentinel1/search?...   \n",
       "7  https://catalog.terradue.com/sentinel1/search?...   \n",
       "\n",
       "                                                 wkt  \n",
       "0  POLYGON ((19.368031 40.835575, 22.396507 41.23...  \n",
       "1  POLYGON ((19.736567 39.342892, 22.70108 39.744...  \n",
       "2  POLYGON ((22.349596 37.795113, 19.450989 38.19...  \n",
       "3  POLYGON ((22.729288 39.285404, 19.763023 39.68...  \n",
       "4  POLYGON ((17.319502 40.773991, 20.347933 41.17...  \n",
       "5  POLYGON ((17.697649 39.282978, 20.658102 39.68...  \n",
       "6  POLYGON ((20.356789 38.021778, 17.475241 38.42...  \n",
       "7  POLYGON ((20.725029 39.57457, 17.784842 39.971...  "
      ]
     },
     "execution_count": 41,
     "metadata": {},
     "output_type": "execute_result"
    }
   ],
   "source": [
    "slaves"
   ]
  },
  {
   "cell_type": "markdown",
   "metadata": {},
   "source": [
    "Select the slave that 'best' covers the AOI"
   ]
  },
  {
   "cell_type": "code",
   "execution_count": 42,
   "metadata": {
    "collapsed": false
   },
   "outputs": [
    {
     "data": {
      "text/plain": [
       "{'enclosure': 'https://store.terradue.com/download/sentinel1/files/v1/S1A_IW_SLC__1SDV_20161018T163206_20161018T163233_013547_015AEB_712A',\n",
       " 'identifier': 'S1A_IW_SLC__1SDV_20161018T163206_20161018T163233_013547_015AEB_712A',\n",
       " 'productType': 'SLC',\n",
       " 'self': 'https://catalog.terradue.com/sentinel1/search?format=atom&uid=S1A_IW_SLC__1SDV_20161018T163206_20161018T163233_013547_015AEB_712A',\n",
       " 'startdate': '2016-10-18T16:32:06.0438950Z',\n",
       " 'track': '175',\n",
       " 'wkt': 'POLYGON((19.368031 40.835575,22.396507 41.235806,22.733843 39.616779,19.779461 39.21563,19.368031 40.835575))'}"
      ]
     },
     "execution_count": 42,
     "metadata": {},
     "output_type": "execute_result"
    }
   ],
   "source": [
    "slave = slave_search[slaves['aoi_intersec'].idxmax()]\n",
    "\n",
    "slave"
   ]
  },
  {
   "cell_type": "code",
   "execution_count": 43,
   "metadata": {
    "collapsed": false
   },
   "outputs": [
    {
     "data": {
      "text/plain": [
       "'2016-10-18T16:32:06.0438950Z'"
      ]
     },
     "execution_count": 43,
     "metadata": {},
     "output_type": "execute_result"
    }
   ],
   "source": [
    "slave['startdate']"
   ]
  },
  {
   "cell_type": "code",
   "execution_count": 46,
   "metadata": {},
   "outputs": [
    {
     "data": {
      "text/html": [
       "<div style=\"width:100%;\"><div style=\"position:relative;width:100%;height:0;padding-bottom:60%;\"><iframe src=\"data:text/html;charset=utf-8;base64,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\" style=\"position:absolute;width:100%;height:100%;left:0;top:0;border:none !important;\" allowfullscreen webkitallowfullscreen mozallowfullscreen></iframe></div></div>"
      ],
      "text/plain": [
       "<folium.folium.Map at 0x7fa9ed3e4650>"
      ]
     },
     "execution_count": 46,
     "metadata": {},
     "output_type": "execute_result"
    }
   ],
   "source": [
    "lat = loads(eq_search.earthquakes[eq_index].wkt).y\n",
    "lon = loads(eq_search.earthquakes[eq_index].wkt).x\n",
    "\n",
    "zoom_start = 7\n",
    "\n",
    "m = folium.Map(location=[lat, lon], zoom_start=zoom_start)\n",
    "\n",
    "radius = 4\n",
    "folium.CircleMarker(\n",
    "    location=[lat, lon],\n",
    "    radius=radius,\n",
    "    color='#FF0000',\n",
    "    stroke=False,\n",
    "    fill=True,\n",
    "    fill_opacity=0.6,\n",
    "    opacity=1,\n",
    "    popup='{} pixels'.format(radius),\n",
    "    tooltip='Earthquake event',\n",
    ").add_to(m)\n",
    "\n",
    "\n",
    "folium.PolyLine(\n",
    "    locations=np.asarray([t[::-1] for t in list(loads(aoi_wkt).exterior.coords)]).tolist(),\n",
    "    color='#FF0000',\n",
    "    weight=2,\n",
    "    tooltip='Sentinel-1 area of interest for discovery',\n",
    ").add_to(m)\n",
    "\n",
    "folium.PolyLine(\n",
    "    locations=np.asarray([t[::-1] for t in list(loads(slave['wkt']).exterior.coords)]).tolist(),\n",
    "    color='orange',\n",
    "    weight=1,\n",
    "    opacity=1,\n",
    "    tooltip='Discovered slave',\n",
    "    smooth_factor=0,\n",
    ").add_to(m)\n",
    "\n",
    "m.save(os.path.join('maps', '%s_slave_search.html' % eq_search.earthquakes[eq_index].id))\n",
    "\n",
    "m"
   ]
  },
  {
   "cell_type": "markdown",
   "metadata": {},
   "source": [
    "**Search for the pre-event masters**"
   ]
  },
  {
   "cell_type": "code",
   "execution_count": 49,
   "metadata": {
    "collapsed": true
   },
   "outputs": [],
   "source": [
    "master_search_start_date = (dateutil.parser.parse(slave['startdate']) + timedelta(days=-24)).isoformat()"
   ]
  },
  {
   "cell_type": "code",
   "execution_count": 50,
   "metadata": {
    "collapsed": false
   },
   "outputs": [],
   "source": [
    "master_search_stop_date = (dateutil.parser.parse(slave['startdate']) + timedelta(days=-1)).isoformat()"
   ]
  },
  {
   "cell_type": "code",
   "execution_count": 51,
   "metadata": {
    "collapsed": true
   },
   "outputs": [],
   "source": [
    "master_search_params = dict([('geom', slave['wkt']),\n",
    "                             ('track', slave['track']),\n",
    "                             ('pt',slave['productType']),\n",
    "                             ('start', master_search_start_date),\n",
    "                             ('stop', master_search_stop_date)])"
   ]
  },
  {
   "cell_type": "code",
   "execution_count": 52,
   "metadata": {
    "collapsed": false
   },
   "outputs": [],
   "source": [
    "try:\n",
    "    master_search = ciop.search(end_point=series, \n",
    "                            params=master_search_params,\n",
    "                            output_fields='identifier,enclosure,self,startdate,wkt',\n",
    "                            model='EOP')\n",
    "except IndexError:\n",
    "    print('no masters')"
   ]
  },
  {
   "cell_type": "code",
   "execution_count": 54,
   "metadata": {
    "collapsed": false
   },
   "outputs": [],
   "source": [
    "result = []\n",
    "\n",
    "for index, elem in enumerate(master_search):\n",
    "    \n",
    "    master_wkt = loads(elem['wkt'])\n",
    "    \n",
    "    result.append({'self' : elem['self'],\n",
    "                   'identifier' : elem['identifier'],\n",
    "                   'enclosure' : elem['enclosure'],\n",
    "                   'wkt': loads(elem['wkt']),\n",
    "                   'aoi_intersec' : (master_wkt.intersection(aoi).area/aoi.area) * 100,\n",
    "                   'slave_intersec' : (master_wkt.intersection(loads(slave['wkt']))).area / loads(slave['wkt']).area * 100,\n",
    "                   'contains': master_wkt.contains(aoi),\n",
    "                   'days': (dateutil.parser.parse(slave['startdate']) - dateutil.parser.parse(elem['startdate'])).days\n",
    "                  })\n",
    "    \n",
    "masters = gp.GeoDataFrame(result)"
   ]
  },
  {
   "cell_type": "code",
   "execution_count": 55,
   "metadata": {
    "collapsed": false
   },
   "outputs": [
    {
     "data": {
      "text/html": [
       "<div>\n",
       "<style scoped>\n",
       "    .dataframe tbody tr th:only-of-type {\n",
       "        vertical-align: middle;\n",
       "    }\n",
       "\n",
       "    .dataframe tbody tr th {\n",
       "        vertical-align: top;\n",
       "    }\n",
       "\n",
       "    .dataframe thead th {\n",
       "        text-align: right;\n",
       "    }\n",
       "</style>\n",
       "<table border=\"1\" class=\"dataframe\">\n",
       "  <thead>\n",
       "    <tr style=\"text-align: right;\">\n",
       "      <th></th>\n",
       "      <th>aoi_intersec</th>\n",
       "      <th>contains</th>\n",
       "      <th>days</th>\n",
       "      <th>enclosure</th>\n",
       "      <th>identifier</th>\n",
       "      <th>self</th>\n",
       "      <th>slave_intersec</th>\n",
       "      <th>wkt</th>\n",
       "    </tr>\n",
       "  </thead>\n",
       "  <tbody>\n",
       "    <tr>\n",
       "      <th>0</th>\n",
       "      <td>0.000000</td>\n",
       "      <td>False</td>\n",
       "      <td>11</td>\n",
       "      <td>https://store.terradue.com/download/sentinel1/...</td>\n",
       "      <td>S1A_IW_SLC__1SDV_20161006T163230_20161006T1632...</td>\n",
       "      <td>https://catalog.terradue.com/sentinel1/search?...</td>\n",
       "      <td>8.059791</td>\n",
       "      <td>POLYGON ((18.973026 42.324501, 22.077484 42.72...</td>\n",
       "    </tr>\n",
       "    <tr>\n",
       "      <th>1</th>\n",
       "      <td>94.021193</td>\n",
       "      <td>False</td>\n",
       "      <td>11</td>\n",
       "      <td>https://store.terradue.com/download/sentinel1/...</td>\n",
       "      <td>S1A_IW_SLC__1SDV_20161006T163206_20161006T1632...</td>\n",
       "      <td>https://catalog.terradue.com/sentinel1/search?...</td>\n",
       "      <td>99.934219</td>\n",
       "      <td>POLYGON ((19.367752 40.834766, 22.396078 41.23...</td>\n",
       "    </tr>\n",
       "    <tr>\n",
       "      <th>2</th>\n",
       "      <td>19.242306</td>\n",
       "      <td>False</td>\n",
       "      <td>12</td>\n",
       "      <td>https://store.terradue.com/download/sentinel1/...</td>\n",
       "      <td>S1A_IW_SLC__1SDV_20161006T163141_20161006T1632...</td>\n",
       "      <td>https://catalog.terradue.com/sentinel1/search?...</td>\n",
       "      <td>7.805433</td>\n",
       "      <td>POLYGON ((19.736254 39.342201, 22.700668 39.74...</td>\n",
       "    </tr>\n",
       "    <tr>\n",
       "      <th>3</th>\n",
       "      <td>14.438422</td>\n",
       "      <td>False</td>\n",
       "      <td>18</td>\n",
       "      <td>https://store.terradue.com/download/sentinel1/...</td>\n",
       "      <td>S1B_IW_SLC__1SDV_20160930T163136_20160930T1632...</td>\n",
       "      <td>https://catalog.terradue.com/sentinel1/search?...</td>\n",
       "      <td>52.685858</td>\n",
       "      <td>POLYGON ((19.140676 41.6096, 22.230778 42.0129...</td>\n",
       "    </tr>\n",
       "    <tr>\n",
       "      <th>4</th>\n",
       "      <td>98.112574</td>\n",
       "      <td>False</td>\n",
       "      <td>18</td>\n",
       "      <td>https://store.terradue.com/download/sentinel1/...</td>\n",
       "      <td>S1B_IW_SLC__1SDV_20160930T163111_20160930T1631...</td>\n",
       "      <td>https://catalog.terradue.com/sentinel1/search?...</td>\n",
       "      <td>55.609042</td>\n",
       "      <td>POLYGON ((19.522146 40.1185, 22.541943 40.5227...</td>\n",
       "    </tr>\n",
       "    <tr>\n",
       "      <th>5</th>\n",
       "      <td>0.000000</td>\n",
       "      <td>False</td>\n",
       "      <td>23</td>\n",
       "      <td>https://store.terradue.com/download/sentinel1/...</td>\n",
       "      <td>S1A_IW_SLC__1SDV_20160924T163230_20160924T1632...</td>\n",
       "      <td>https://catalog.terradue.com/sentinel1/search?...</td>\n",
       "      <td>8.060515</td>\n",
       "      <td>POLYGON ((18.957047 42.382229, 22.06447 42.782...</td>\n",
       "    </tr>\n",
       "    <tr>\n",
       "      <th>6</th>\n",
       "      <td>94.049465</td>\n",
       "      <td>False</td>\n",
       "      <td>23</td>\n",
       "      <td>https://store.terradue.com/download/sentinel1/...</td>\n",
       "      <td>S1A_IW_SLC__1SDV_20160924T163206_20160924T1632...</td>\n",
       "      <td>https://catalog.terradue.com/sentinel1/search?...</td>\n",
       "      <td>99.916430</td>\n",
       "      <td>POLYGON ((19.367441 40.834682, 22.395617 41.23...</td>\n",
       "    </tr>\n",
       "    <tr>\n",
       "      <th>7</th>\n",
       "      <td>19.224740</td>\n",
       "      <td>False</td>\n",
       "      <td>24</td>\n",
       "      <td>https://store.terradue.com/download/sentinel1/...</td>\n",
       "      <td>S1A_IW_SLC__1SDV_20160924T163141_20160924T1632...</td>\n",
       "      <td>https://catalog.terradue.com/sentinel1/search?...</td>\n",
       "      <td>7.793974</td>\n",
       "      <td>POLYGON ((19.735977 39.341984, 22.700241 39.74...</td>\n",
       "    </tr>\n",
       "  </tbody>\n",
       "</table>\n",
       "</div>"
      ],
      "text/plain": [
       "   aoi_intersec  contains  days  \\\n",
       "0      0.000000     False    11   \n",
       "1     94.021193     False    11   \n",
       "2     19.242306     False    12   \n",
       "3     14.438422     False    18   \n",
       "4     98.112574     False    18   \n",
       "5      0.000000     False    23   \n",
       "6     94.049465     False    23   \n",
       "7     19.224740     False    24   \n",
       "\n",
       "                                           enclosure  \\\n",
       "0  https://store.terradue.com/download/sentinel1/...   \n",
       "1  https://store.terradue.com/download/sentinel1/...   \n",
       "2  https://store.terradue.com/download/sentinel1/...   \n",
       "3  https://store.terradue.com/download/sentinel1/...   \n",
       "4  https://store.terradue.com/download/sentinel1/...   \n",
       "5  https://store.terradue.com/download/sentinel1/...   \n",
       "6  https://store.terradue.com/download/sentinel1/...   \n",
       "7  https://store.terradue.com/download/sentinel1/...   \n",
       "\n",
       "                                          identifier  \\\n",
       "0  S1A_IW_SLC__1SDV_20161006T163230_20161006T1632...   \n",
       "1  S1A_IW_SLC__1SDV_20161006T163206_20161006T1632...   \n",
       "2  S1A_IW_SLC__1SDV_20161006T163141_20161006T1632...   \n",
       "3  S1B_IW_SLC__1SDV_20160930T163136_20160930T1632...   \n",
       "4  S1B_IW_SLC__1SDV_20160930T163111_20160930T1631...   \n",
       "5  S1A_IW_SLC__1SDV_20160924T163230_20160924T1632...   \n",
       "6  S1A_IW_SLC__1SDV_20160924T163206_20160924T1632...   \n",
       "7  S1A_IW_SLC__1SDV_20160924T163141_20160924T1632...   \n",
       "\n",
       "                                                self  slave_intersec  \\\n",
       "0  https://catalog.terradue.com/sentinel1/search?...        8.059791   \n",
       "1  https://catalog.terradue.com/sentinel1/search?...       99.934219   \n",
       "2  https://catalog.terradue.com/sentinel1/search?...        7.805433   \n",
       "3  https://catalog.terradue.com/sentinel1/search?...       52.685858   \n",
       "4  https://catalog.terradue.com/sentinel1/search?...       55.609042   \n",
       "5  https://catalog.terradue.com/sentinel1/search?...        8.060515   \n",
       "6  https://catalog.terradue.com/sentinel1/search?...       99.916430   \n",
       "7  https://catalog.terradue.com/sentinel1/search?...        7.793974   \n",
       "\n",
       "                                                 wkt  \n",
       "0  POLYGON ((18.973026 42.324501, 22.077484 42.72...  \n",
       "1  POLYGON ((19.367752 40.834766, 22.396078 41.23...  \n",
       "2  POLYGON ((19.736254 39.342201, 22.700668 39.74...  \n",
       "3  POLYGON ((19.140676 41.6096, 22.230778 42.0129...  \n",
       "4  POLYGON ((19.522146 40.1185, 22.541943 40.5227...  \n",
       "5  POLYGON ((18.957047 42.382229, 22.06447 42.782...  \n",
       "6  POLYGON ((19.367441 40.834682, 22.395617 41.23...  \n",
       "7  POLYGON ((19.735977 39.341984, 22.700241 39.74...  "
      ]
     },
     "execution_count": 55,
     "metadata": {},
     "output_type": "execute_result"
    }
   ],
   "source": [
    "masters"
   ]
  },
  {
   "cell_type": "markdown",
   "metadata": {},
   "source": [
    "* Select the two masters according to the ranking of AOI coverage and nearest cycles in time"
   ]
  },
  {
   "cell_type": "code",
   "execution_count": 61,
   "metadata": {
    "collapsed": false
   },
   "outputs": [],
   "source": [
    "master_1 = master_search[masters.sort_values(['aoi_intersec', 'days'], ascending=[False, False]).iloc[0].name]\n",
    "master_2 = master_search[masters.sort_values(['aoi_intersec', 'days'], ascending=[False, False]).iloc[1].name]"
   ]
  },
  {
   "cell_type": "code",
   "execution_count": 62,
   "metadata": {
    "collapsed": false
   },
   "outputs": [],
   "source": [
    "s1_identifiers = []\n",
    "s1_references = [] \n",
    "locations = []\n",
    "\n",
    "for product in [slave, master_1, master_2]:\n",
    "    \n",
    "    locations.append([t[::-1] for t in list(loads(product['wkt']).exterior.coords)])\n",
    "    \n",
    "    s1_identifiers.append(product['identifier'])\n",
    "    s1_references.append(product['self'])\n"
   ]
  },
  {
   "cell_type": "markdown",
   "metadata": {},
   "source": [
    "Plot the Sentinel-1 products (slave, master 1 and master 2), the earthquake point and its area of interest"
   ]
  },
  {
   "cell_type": "code",
   "execution_count": 63,
   "metadata": {},
   "outputs": [
    {
     "data": {
      "text/html": [
       "<div style=\"width:100%;\"><div style=\"position:relative;width:100%;height:0;padding-bottom:60%;\"><iframe src=\"data:text/html;charset=utf-8;base64,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\" style=\"position:absolute;width:100%;height:100%;left:0;top:0;border:none !important;\" allowfullscreen webkitallowfullscreen mozallowfullscreen></iframe></div></div>"
      ],
      "text/plain": [
       "<folium.folium.Map at 0x7fa9ed3cb6d0>"
      ]
     },
     "execution_count": 63,
     "metadata": {},
     "output_type": "execute_result"
    }
   ],
   "source": [
    "lat = loads(eq_search.earthquakes[eq_index].wkt).y\n",
    "lon = loads(eq_search.earthquakes[eq_index].wkt).x\n",
    "\n",
    "zoom_start = 7\n",
    "\n",
    "m = folium.Map(location=[lat, lon], zoom_start=zoom_start)\n",
    "\n",
    "radius = 4\n",
    "folium.CircleMarker(\n",
    "    location=[lat, lon],\n",
    "    radius=radius,\n",
    "    color='#FF0000',\n",
    "    stroke=False,\n",
    "    fill=True,\n",
    "    fill_opacity=0.6,\n",
    "    opacity=1,\n",
    "    popup='{} pixels'.format(radius),\n",
    "    tooltip='I am in pixels',\n",
    ").add_to(m)\n",
    "\n",
    "\n",
    "folium.PolyLine(\n",
    "    locations=np.asarray([t[::-1] for t in list(loads(aoi_wkt).exterior.coords)]).tolist(),\n",
    "    color='#FF0000',\n",
    "    weight=2,\n",
    "    tooltip='Japan flooding',\n",
    ").add_to(m)\n",
    "\n",
    "folium.PolyLine(\n",
    "    locations=locations,\n",
    "    color='orange',\n",
    "    weight=1,\n",
    "    opacity=1,\n",
    "    smooth_factor=0,\n",
    ").add_to(m)\n",
    "\n",
    "m.save(os.path.join('maps', '%s_final.html' % eq_search.earthquakes[eq_index].id))\n",
    "\n",
    "m"
   ]
  },
  {
   "cell_type": "code",
   "execution_count": 72,
   "metadata": {
    "collapsed": true
   },
   "outputs": [
    {
     "name": "stdout",
     "output_type": "stream",
     "text": [
      "s1_references = ['https://catalog.terradue.com/sentinel1/search?format=atom&uid=S1A_IW_SLC__1SDV_20161018T163206_20161018T163233_013547_015AEB_712A', 'https://catalog.terradue.com/sentinel1/search?format=atom&uid=S1B_IW_SLC__1SDV_20160930T163111_20160930T163139_002301_003E3A_4516', 'https://catalog.terradue.com/sentinel1/search?format=atom&uid=S1A_IW_SLC__1SDV_20160924T163206_20160924T163233_013197_014FD9_29A5']\n"
     ]
    }
   ],
   "source": [
    "print ('s1_references = %s' % s1_references)"
   ]
  },
  {
   "cell_type": "code",
   "execution_count": 66,
   "metadata": {},
   "outputs": [],
   "source": [
    "pair_coseismic = [s1_references[0], \n",
    "                 s1_references[1]]\n",
    "\n",
    "pair_preseismic = [s1_references[1], \n",
    "                 s1_references[2]]\n"
   ]
  },
  {
   "cell_type": "code",
   "execution_count": 70,
   "metadata": {},
   "outputs": [
    {
     "name": "stdout",
     "output_type": "stream",
     "text": [
      "pair_coseismic = ['https://catalog.terradue.com/sentinel1/search?format=atom&uid=S1A_IW_SLC__1SDV_20161018T163206_20161018T163233_013547_015AEB_712A', 'https://catalog.terradue.com/sentinel1/search?format=atom&uid=S1B_IW_SLC__1SDV_20160930T163111_20160930T163139_002301_003E3A_4516']\n"
     ]
    }
   ],
   "source": [
    "print ('pair_coseismic = %s' % pair_coseismic)"
   ]
  },
  {
   "cell_type": "code",
   "execution_count": 71,
   "metadata": {},
   "outputs": [
    {
     "name": "stdout",
     "output_type": "stream",
     "text": [
      "pair_preseismic = ['https://catalog.terradue.com/sentinel1/search?format=atom&uid=S1B_IW_SLC__1SDV_20160930T163111_20160930T163139_002301_003E3A_4516', 'https://catalog.terradue.com/sentinel1/search?format=atom&uid=S1A_IW_SLC__1SDV_20160924T163206_20160924T163233_013197_014FD9_29A5']\n"
     ]
    }
   ],
   "source": [
    "print ('pair_preseismic = %s' % pair_preseismic)"
   ]
  },
  {
   "cell_type": "markdown",
   "metadata": {},
   "source": [
    "## License"
   ]
  },
  {
   "cell_type": "markdown",
   "metadata": {},
   "source": [
    "This work is licenced under a [Attribution-ShareAlike 4.0 International License (CC BY-SA 4.0)](http://creativecommons.org/licenses/by-sa/4.0/) \n",
    "\n",
    "YOU ARE FREE TO:\n",
    "\n",
    "* Share - copy and redistribute the material in any medium or format.\n",
    "* Adapt - remix, transform, and built upon the material for any purpose, even commercially.\n",
    "\n",
    "UNDER THE FOLLOWING TERMS:\n",
    "\n",
    "* Attribution - You must give appropriate credit, provide a link to the license, and indicate if changes were made. You may do so in any reasonable manner, but not in any way that suggests the licensor endorses you or your use.\n",
    "* ShareAlike - If you remix, transform, or build upon the material, you must distribute your contributions under the same license as the original."
   ]
  },
  {
   "cell_type": "code",
   "execution_count": null,
   "metadata": {},
   "outputs": [],
   "source": []
  }
 ],
 "metadata": {
  "kernelspec": {
   "display_name": "Python 2",
   "language": "python",
   "name": "python2"
  },
  "language_info": {
   "codemirror_mode": {
    "name": "ipython",
    "version": 2
   },
   "file_extension": ".py",
   "mimetype": "text/x-python",
   "name": "python",
   "nbconvert_exporter": "python",
   "pygments_lexer": "ipython2",
   "version": "2.7.12"
  }
 },
 "nbformat": 4,
 "nbformat_minor": 2
}
