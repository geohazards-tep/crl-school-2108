{
 "cells": [
  {
   "cell_type": "markdown",
   "metadata": {},
   "source": [
    "## Discover Sentinel-1 pairs for pre-seismic and coseismic coherence change analysis"
   ]
  },
  {
   "cell_type": "markdown",
   "metadata": {},
   "source": [
    "* Import the Python packages"
   ]
  },
  {
   "cell_type": "code",
   "execution_count": 1,
   "metadata": {
    "collapsed": true
   },
   "outputs": [],
   "source": [
    "%matplotlib inline\n",
    "\n",
    "import warnings\n",
    "warnings.filterwarnings(\"ignore\")\n",
    "import os\n",
    "import sys\n",
    "import glob\n",
    "\n",
    "import cioppy\n",
    "ciop = cioppy.Cioppy()\n",
    "\n",
    "import numpy as np\n",
    "import matplotlib\n",
    "import matplotlib.pyplot as plt\n",
    "import matplotlib.colors as colors\n",
    "\n",
    "from snappy import jpy\n",
    "from snappy import ProductIO\n",
    "from snappy import GPF\n",
    "from snappy import HashMap\n",
    "\n",
    "import gc\n",
    "\n",
    "from shapely.geometry import box\n",
    "from shapely.wkt import loads  \n",
    "\n",
    "import py_earthquakes\n",
    "\n",
    "from datetime import datetime, timedelta\n",
    "import dateutil.parser\n",
    "\n",
    "import geopandas as gp\n",
    "\n",
    "import folium"
   ]
  },
  {
   "cell_type": "markdown",
   "metadata": {},
   "source": [
    "* Use an earthquake"
   ]
  },
  {
   "cell_type": "code",
   "execution_count": 2,
   "metadata": {
    "collapsed": true
   },
   "outputs": [],
   "source": [
    "bbox=[21.944860, 36.940880,23.944860, 38.940880]\n",
    "\n",
    "min_mag = 4.1\n",
    "\n",
    "start_date = '2016-10-01'\n",
    "\n",
    "stop_date = '2016-11-30'"
   ]
  },
  {
   "cell_type": "code",
   "execution_count": 3,
   "metadata": {
    "collapsed": true
   },
   "outputs": [],
   "source": [
    "eq_search = py_earthquakes.EarthQuakes(start_date,\n",
    "                                       stop_date,\n",
    "                                       min_mag = min_mag,\n",
    "                                       bbox=bbox)"
   ]
  },
  {
   "cell_type": "code",
   "execution_count": 4,
   "metadata": {
    "collapsed": false
   },
   "outputs": [
    {
     "data": {
      "text/plain": [
       "'M 4.2 - 1km SSW of Makrakomi, Greece'"
      ]
     },
     "execution_count": 4,
     "metadata": {},
     "output_type": "execute_result"
    }
   ],
   "source": [
    "eq_search.earthquakes[0].title"
   ]
  },
  {
   "cell_type": "code",
   "execution_count": 5,
   "metadata": {
    "collapsed": false
   },
   "outputs": [
    {
     "data": {
      "text/plain": [
       "'us20007gi7'"
      ]
     },
     "execution_count": 5,
     "metadata": {},
     "output_type": "execute_result"
    }
   ],
   "source": [
    "eq_search.earthquakes[0].id"
   ]
  },
  {
   "cell_type": "code",
   "execution_count": 6,
   "metadata": {
    "collapsed": false
   },
   "outputs": [
    {
     "data": {
      "text/plain": [
       "'2016-10-25T00:09:56.590000Z'"
      ]
     },
     "execution_count": 6,
     "metadata": {},
     "output_type": "execute_result"
    }
   ],
   "source": [
    "eq_search.earthquakes[0].date"
   ]
  },
  {
   "cell_type": "markdown",
   "metadata": {},
   "source": [
    "Create a buffer of 0.5 degrees"
   ]
  },
  {
   "cell_type": "code",
   "execution_count": 7,
   "metadata": {
    "collapsed": false
   },
   "outputs": [
    {
     "data": {
      "text/plain": [
       "'POINT(22.1115 38.9244)'"
      ]
     },
     "execution_count": 7,
     "metadata": {},
     "output_type": "execute_result"
    }
   ],
   "source": [
    "eq_search.earthquakes[0].wkt"
   ]
  },
  {
   "cell_type": "code",
   "execution_count": 8,
   "metadata": {
    "collapsed": true
   },
   "outputs": [],
   "source": [
    "aoi_wkt = box(*loads(eq_search.earthquakes[0].wkt).buffer(0.5).bounds).wkt"
   ]
  },
  {
   "cell_type": "code",
   "execution_count": 9,
   "metadata": {
    "collapsed": false
   },
   "outputs": [
    {
     "data": {
      "text/plain": [
       "'POLYGON ((22.6115 38.4244, 22.6115 39.4244, 21.6115 39.4244, 21.6115 38.4244, 22.6115 38.4244))'"
      ]
     },
     "execution_count": 9,
     "metadata": {},
     "output_type": "execute_result"
    }
   ],
   "source": [
    "aoi_wkt"
   ]
  },
  {
   "cell_type": "markdown",
   "metadata": {},
   "source": [
    "* Search parameters"
   ]
  },
  {
   "cell_type": "markdown",
   "metadata": {},
   "source": [
    "Set the catalogue endpoint to Sentinel-1:"
   ]
  },
  {
   "cell_type": "code",
   "execution_count": 10,
   "metadata": {
    "collapsed": true
   },
   "outputs": [],
   "source": [
    "series = 'https://catalog.terradue.com/sentinel1/search'"
   ]
  },
  {
   "cell_type": "markdown",
   "metadata": {},
   "source": [
    "Define the end of the time of interest:"
   ]
  },
  {
   "cell_type": "code",
   "execution_count": 11,
   "metadata": {
    "collapsed": false
   },
   "outputs": [],
   "source": [
    "slave_search_stop_date = (dateutil.parser.parse(eq_search.earthquakes[0].date) + timedelta(days=6)).isoformat()"
   ]
  },
  {
   "cell_type": "markdown",
   "metadata": {},
   "source": [
    "* Build and submit the catalog search\n"
   ]
  },
  {
   "cell_type": "code",
   "execution_count": 12,
   "metadata": {
    "collapsed": true
   },
   "outputs": [],
   "source": [
    "search_params = dict([('geom', aoi_wkt),\n",
    "                     ('start', eq_search.earthquakes[0].date),\n",
    "                     ('stop', slave_search_stop_date),\n",
    "                      ('pt', 'SLC')])"
   ]
  },
  {
   "cell_type": "code",
   "execution_count": 13,
   "metadata": {
    "collapsed": false
   },
   "outputs": [],
   "source": [
    "slave_search = ciop.search(end_point = series,\n",
    "                     params = search_params,\n",
    "                     output_fields='self,productType,track,enclosure,identifier,wkt,startdate', \n",
    "                     model='EOP')"
   ]
  },
  {
   "cell_type": "markdown",
   "metadata": {},
   "source": [
    "* Put all slaves in a geodataframe and plot the Sentinel-1 slave candidates"
   ]
  },
  {
   "cell_type": "code",
   "execution_count": 14,
   "metadata": {
    "collapsed": true
   },
   "outputs": [],
   "source": [
    "aoi = loads(aoi_wkt)"
   ]
  },
  {
   "cell_type": "code",
   "execution_count": 15,
   "metadata": {
    "collapsed": false
   },
   "outputs": [],
   "source": [
    "result = []\n",
    "\n",
    "locations = []\n",
    "\n",
    "for index, elem in enumerate(slave_search):\n",
    "    \n",
    "    locations.append([t[::-1] for t in list(loads(elem['wkt']).exterior.coords)])\n",
    "    \n",
    "    slave_wkt = loads(elem['wkt'])\n",
    "    \n",
    "    result.append({'self' : elem['self'],\n",
    "                   'identifier' : elem['identifier'],\n",
    "                   'enclosure' : elem['enclosure'],\n",
    "                   'date' : elem['startdate'],\n",
    "                   'wkt': loads(elem['wkt']),\n",
    "                   'aoi_intersec' : (slave_wkt.intersection(aoi).area/aoi.area) * 100,\n",
    "                   'contains': slave_wkt.contains(aoi)\n",
    "                  })\n",
    "    \n",
    "slaves = gp.GeoDataFrame(result)"
   ]
  },
  {
   "cell_type": "code",
   "execution_count": 16,
   "metadata": {},
   "outputs": [
    {
     "data": {
      "text/html": [
       "<div style=\"width:100%;\"><div style=\"position:relative;width:100%;height:0;padding-bottom:60%;\"><iframe src=\"data:text/html;charset=utf-8;base64,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\" style=\"position:absolute;width:100%;height:100%;left:0;top:0;border:none !important;\" allowfullscreen webkitallowfullscreen mozallowfullscreen></iframe></div></div>"
      ],
      "text/plain": [
       "<folium.folium.Map at 0x7fcdc5752310>"
      ]
     },
     "execution_count": 16,
     "metadata": {},
     "output_type": "execute_result"
    }
   ],
   "source": [
    "lat = loads(eq_search.earthquakes[0].wkt).y\n",
    "lon = loads(eq_search.earthquakes[0].wkt).x\n",
    "\n",
    "zoom_start = 7\n",
    "\n",
    "m = folium.Map(location=[lat, lon], zoom_start=zoom_start)\n",
    "\n",
    "radius = 4\n",
    "folium.CircleMarker(\n",
    "    location=[lat, lon],\n",
    "    radius=radius,\n",
    "    color='#FF0000',\n",
    "    stroke=False,\n",
    "    fill=True,\n",
    "    fill_opacity=0.6,\n",
    "    opacity=1,\n",
    "    popup='{} pixels'.format(radius),\n",
    "    tooltip='I am in pixels',\n",
    ").add_to(m)\n",
    "\n",
    "\n",
    "folium.PolyLine(\n",
    "    locations=np.asarray([t[::-1] for t in list(loads(aoi_wkt).exterior.coords)]).tolist(),\n",
    "    color='#FF0000',\n",
    "    weight=2,\n",
    "    tooltip='Japan flooding',\n",
    ").add_to(m)\n",
    "\n",
    "folium.PolyLine(\n",
    "    locations=locations,\n",
    "    color='orange',\n",
    "    weight=1,\n",
    "    opacity=1,\n",
    "    smooth_factor=0,\n",
    ").add_to(m)\n",
    "\n",
    "m.save(os.path.join('results', '%s_search.html' % eq_search.earthquakes[0].id))\n",
    "\n",
    "m"
   ]
  },
  {
   "cell_type": "code",
   "execution_count": 17,
   "metadata": {
    "collapsed": false
   },
   "outputs": [
    {
     "data": {
      "text/html": [
       "<div>\n",
       "<style scoped>\n",
       "    .dataframe tbody tr th:only-of-type {\n",
       "        vertical-align: middle;\n",
       "    }\n",
       "\n",
       "    .dataframe tbody tr th {\n",
       "        vertical-align: top;\n",
       "    }\n",
       "\n",
       "    .dataframe thead th {\n",
       "        text-align: right;\n",
       "    }\n",
       "</style>\n",
       "<table border=\"1\" class=\"dataframe\">\n",
       "  <thead>\n",
       "    <tr style=\"text-align: right;\">\n",
       "      <th></th>\n",
       "      <th>aoi_intersec</th>\n",
       "      <th>contains</th>\n",
       "      <th>date</th>\n",
       "      <th>enclosure</th>\n",
       "      <th>identifier</th>\n",
       "      <th>self</th>\n",
       "      <th>wkt</th>\n",
       "    </tr>\n",
       "  </thead>\n",
       "  <tbody>\n",
       "    <tr>\n",
       "      <th>0</th>\n",
       "      <td>100.000000</td>\n",
       "      <td>True</td>\n",
       "      <td>2016-10-30T16:31:41.3695830Z</td>\n",
       "      <td>https://store.terradue.com/download/sentinel1/...</td>\n",
       "      <td>S1A_IW_SLC__1SDV_20161030T163141_20161030T1632...</td>\n",
       "      <td>https://catalog.terradue.com/sentinel1/search?...</td>\n",
       "      <td>POLYGON ((19.736723 39.341087, 22.701288 39.74...</td>\n",
       "    </tr>\n",
       "    <tr>\n",
       "      <th>1</th>\n",
       "      <td>97.711574</td>\n",
       "      <td>False</td>\n",
       "      <td>2016-10-30T04:38:48.2069410Z</td>\n",
       "      <td>https://store.terradue.com/download/sentinel1/...</td>\n",
       "      <td>S1B_IW_SLC__1SDV_20161030T043848_20161030T0439...</td>\n",
       "      <td>https://catalog.terradue.com/sentinel1/search?...</td>\n",
       "      <td>POLYGON ((22.34882 37.795399, 19.450127 38.198...</td>\n",
       "    </tr>\n",
       "    <tr>\n",
       "      <th>2</th>\n",
       "      <td>5.551913</td>\n",
       "      <td>False</td>\n",
       "      <td>2016-10-30T04:38:22.4261540Z</td>\n",
       "      <td>https://store.terradue.com/download/sentinel1/...</td>\n",
       "      <td>S1B_IW_SLC__1SDV_20161030T043822_20161030T0438...</td>\n",
       "      <td>https://catalog.terradue.com/sentinel1/search?...</td>\n",
       "      <td>POLYGON ((22.728542 39.285812, 19.762106 39.68...</td>\n",
       "    </tr>\n",
       "    <tr>\n",
       "      <th>3</th>\n",
       "      <td>71.287095</td>\n",
       "      <td>False</td>\n",
       "      <td>2016-10-25T16:23:37.9832800Z</td>\n",
       "      <td>https://store.terradue.com/download/sentinel1/...</td>\n",
       "      <td>S1A_IW_SLC__1SDV_20161025T162337_20161025T1624...</td>\n",
       "      <td>https://catalog.terradue.com/sentinel1/search?...</td>\n",
       "      <td>POLYGON ((21.63916 39.960037, 24.634281 40.361...</td>\n",
       "    </tr>\n",
       "    <tr>\n",
       "      <th>4</th>\n",
       "      <td>5.062699</td>\n",
       "      <td>False</td>\n",
       "      <td>2016-10-25T16:23:13.1686030Z</td>\n",
       "      <td>https://store.terradue.com/download/sentinel1/...</td>\n",
       "      <td>S1A_IW_SLC__1SDV_20161025T162313_20161025T1623...</td>\n",
       "      <td>https://catalog.terradue.com/sentinel1/search?...</td>\n",
       "      <td>POLYGON ((22.016951 38.469093, 24.94478 38.871...</td>\n",
       "    </tr>\n",
       "    <tr>\n",
       "      <th>5</th>\n",
       "      <td>93.929883</td>\n",
       "      <td>False</td>\n",
       "      <td>2016-10-25T04:30:36.4692880Z</td>\n",
       "      <td>https://store.terradue.com/download/sentinel1/...</td>\n",
       "      <td>S1B_IW_SLC__1SDV_20161025T043036_20161025T0431...</td>\n",
       "      <td>https://catalog.terradue.com/sentinel1/search?...</td>\n",
       "      <td>POLYGON ((24.384764 37.672104, 21.492056 38.07...</td>\n",
       "    </tr>\n",
       "  </tbody>\n",
       "</table>\n",
       "</div>"
      ],
      "text/plain": [
       "   aoi_intersec  contains                          date  \\\n",
       "0    100.000000      True  2016-10-30T16:31:41.3695830Z   \n",
       "1     97.711574     False  2016-10-30T04:38:48.2069410Z   \n",
       "2      5.551913     False  2016-10-30T04:38:22.4261540Z   \n",
       "3     71.287095     False  2016-10-25T16:23:37.9832800Z   \n",
       "4      5.062699     False  2016-10-25T16:23:13.1686030Z   \n",
       "5     93.929883     False  2016-10-25T04:30:36.4692880Z   \n",
       "\n",
       "                                           enclosure  \\\n",
       "0  https://store.terradue.com/download/sentinel1/...   \n",
       "1  https://store.terradue.com/download/sentinel1/...   \n",
       "2  https://store.terradue.com/download/sentinel1/...   \n",
       "3  https://store.terradue.com/download/sentinel1/...   \n",
       "4  https://store.terradue.com/download/sentinel1/...   \n",
       "5  https://store.terradue.com/download/sentinel1/...   \n",
       "\n",
       "                                          identifier  \\\n",
       "0  S1A_IW_SLC__1SDV_20161030T163141_20161030T1632...   \n",
       "1  S1B_IW_SLC__1SDV_20161030T043848_20161030T0439...   \n",
       "2  S1B_IW_SLC__1SDV_20161030T043822_20161030T0438...   \n",
       "3  S1A_IW_SLC__1SDV_20161025T162337_20161025T1624...   \n",
       "4  S1A_IW_SLC__1SDV_20161025T162313_20161025T1623...   \n",
       "5  S1B_IW_SLC__1SDV_20161025T043036_20161025T0431...   \n",
       "\n",
       "                                                self  \\\n",
       "0  https://catalog.terradue.com/sentinel1/search?...   \n",
       "1  https://catalog.terradue.com/sentinel1/search?...   \n",
       "2  https://catalog.terradue.com/sentinel1/search?...   \n",
       "3  https://catalog.terradue.com/sentinel1/search?...   \n",
       "4  https://catalog.terradue.com/sentinel1/search?...   \n",
       "5  https://catalog.terradue.com/sentinel1/search?...   \n",
       "\n",
       "                                                 wkt  \n",
       "0  POLYGON ((19.736723 39.341087, 22.701288 39.74...  \n",
       "1  POLYGON ((22.34882 37.795399, 19.450127 38.198...  \n",
       "2  POLYGON ((22.728542 39.285812, 19.762106 39.68...  \n",
       "3  POLYGON ((21.63916 39.960037, 24.634281 40.361...  \n",
       "4  POLYGON ((22.016951 38.469093, 24.94478 38.871...  \n",
       "5  POLYGON ((24.384764 37.672104, 21.492056 38.07...  "
      ]
     },
     "execution_count": 17,
     "metadata": {},
     "output_type": "execute_result"
    }
   ],
   "source": [
    "slaves"
   ]
  },
  {
   "cell_type": "markdown",
   "metadata": {},
   "source": [
    "Select the slave that 'best' covers the AOI"
   ]
  },
  {
   "cell_type": "code",
   "execution_count": 18,
   "metadata": {
    "collapsed": false
   },
   "outputs": [
    {
     "data": {
      "text/plain": [
       "{'enclosure': 'https://store.terradue.com/download/sentinel1/files/v1/S1A_IW_SLC__1SDV_20161030T163141_20161030T163208_013722_01603F_4094',\n",
       " 'identifier': 'S1A_IW_SLC__1SDV_20161030T163141_20161030T163208_013722_01603F_4094',\n",
       " 'productType': 'SLC',\n",
       " 'self': 'https://catalog.terradue.com/sentinel1/search?format=atom&uid=S1A_IW_SLC__1SDV_20161030T163141_20161030T163208_013722_01603F_4094',\n",
       " 'startdate': '2016-10-30T16:31:41.3695830Z',\n",
       " 'track': '175',\n",
       " 'wkt': 'POLYGON((19.736723 39.341087,22.701288 39.742973,23.034481 38.123413,20.138891 37.720314,19.736723 39.341087))'}"
      ]
     },
     "execution_count": 18,
     "metadata": {},
     "output_type": "execute_result"
    }
   ],
   "source": [
    "slave = slave_search[slaves['aoi_intersec'].idxmax()]\n",
    "\n",
    "slave"
   ]
  },
  {
   "cell_type": "code",
   "execution_count": 19,
   "metadata": {
    "collapsed": false
   },
   "outputs": [
    {
     "data": {
      "text/plain": [
       "'2016-10-30T16:31:41.3695830Z'"
      ]
     },
     "execution_count": 19,
     "metadata": {},
     "output_type": "execute_result"
    }
   ],
   "source": [
    "slave['startdate']"
   ]
  },
  {
   "cell_type": "markdown",
   "metadata": {},
   "source": [
    "**Search for the pre-event masters**"
   ]
  },
  {
   "cell_type": "code",
   "execution_count": 20,
   "metadata": {
    "collapsed": true
   },
   "outputs": [],
   "source": [
    "master_search_start_date = (dateutil.parser.parse(slave['startdate']) + timedelta(days=-24)).isoformat()"
   ]
  },
  {
   "cell_type": "code",
   "execution_count": 21,
   "metadata": {
    "collapsed": false
   },
   "outputs": [],
   "source": [
    "master_search_stop_date = (dateutil.parser.parse(slave['startdate']) + timedelta(days=-1)).isoformat()"
   ]
  },
  {
   "cell_type": "code",
   "execution_count": 22,
   "metadata": {
    "collapsed": true
   },
   "outputs": [],
   "source": [
    "master_search_params = dict([('geom', slave['wkt']),\n",
    "                           ('track', slave['track']),\n",
    "                            ('pt',slave['productType']),\n",
    "                            ('start', master_search_start_date),\n",
    "                            ('stop', master_search_stop_date)])"
   ]
  },
  {
   "cell_type": "code",
   "execution_count": 23,
   "metadata": {
    "collapsed": false
   },
   "outputs": [],
   "source": [
    "try:\n",
    "    master_search = ciop.search(end_point=series, \n",
    "                            params=master_search_params,\n",
    "                            output_fields='identifier,enclosure,self,startdate,wkt',\n",
    "                            model='EOP')\n",
    "except IndexError:\n",
    "    print('no masters')"
   ]
  },
  {
   "cell_type": "code",
   "execution_count": 24,
   "metadata": {
    "collapsed": false
   },
   "outputs": [],
   "source": [
    "result = []\n",
    "\n",
    "for index, elem in enumerate(master_search):\n",
    "    \n",
    "    master_wkt = loads(elem['wkt'])\n",
    "    \n",
    "    result.append({'self' : elem['self'],\n",
    "                   'identifier' : elem['identifier'],\n",
    "                   'enclosure' : elem['enclosure'],\n",
    "                   'wkt': loads(elem['wkt']),\n",
    "                   'aoi_intersec' : (master_wkt.intersection(aoi).area/aoi.area) * 100,\n",
    "                   'slave_intersec' : (master_wkt.intersection(loads(slave['wkt']))).area / loads(slave['wkt']).area * 100,\n",
    "                   'contains': master_wkt.contains(aoi),\n",
    "                   'days': (dateutil.parser.parse(slave['startdate']) - dateutil.parser.parse(elem['startdate'])).days\n",
    "                  })\n",
    "    \n",
    "masters = gp.GeoDataFrame(result)"
   ]
  },
  {
   "cell_type": "code",
   "execution_count": 25,
   "metadata": {
    "collapsed": false
   },
   "outputs": [
    {
     "data": {
      "text/html": [
       "<div>\n",
       "<style scoped>\n",
       "    .dataframe tbody tr th:only-of-type {\n",
       "        vertical-align: middle;\n",
       "    }\n",
       "\n",
       "    .dataframe tbody tr th {\n",
       "        vertical-align: top;\n",
       "    }\n",
       "\n",
       "    .dataframe thead th {\n",
       "        text-align: right;\n",
       "    }\n",
       "</style>\n",
       "<table border=\"1\" class=\"dataframe\">\n",
       "  <thead>\n",
       "    <tr style=\"text-align: right;\">\n",
       "      <th></th>\n",
       "      <th>aoi_intersec</th>\n",
       "      <th>contains</th>\n",
       "      <th>days</th>\n",
       "      <th>enclosure</th>\n",
       "      <th>identifier</th>\n",
       "      <th>self</th>\n",
       "      <th>slave_intersec</th>\n",
       "      <th>wkt</th>\n",
       "    </tr>\n",
       "  </thead>\n",
       "  <tbody>\n",
       "    <tr>\n",
       "      <th>0</th>\n",
       "      <td>68.636837</td>\n",
       "      <td>False</td>\n",
       "      <td>6</td>\n",
       "      <td>https://store.terradue.com/download/sentinel1/...</td>\n",
       "      <td>S1B_IW_SLC__1SDV_20161024T163111_20161024T1631...</td>\n",
       "      <td>https://catalog.terradue.com/sentinel1/search?...</td>\n",
       "      <td>55.755995</td>\n",
       "      <td>POLYGON ((19.520258 40.118217, 22.542038 40.52...</td>\n",
       "    </tr>\n",
       "    <tr>\n",
       "      <th>1</th>\n",
       "      <td>44.640286</td>\n",
       "      <td>False</td>\n",
       "      <td>6</td>\n",
       "      <td>https://store.terradue.com/download/sentinel1/...</td>\n",
       "      <td>S1B_IW_SLC__1SDV_20161024T163046_20161024T1631...</td>\n",
       "      <td>https://catalog.terradue.com/sentinel1/search?...</td>\n",
       "      <td>52.199313</td>\n",
       "      <td>POLYGON ((19.906658 38.567837, 22.860817 38.97...</td>\n",
       "    </tr>\n",
       "    <tr>\n",
       "      <th>2</th>\n",
       "      <td>0.000000</td>\n",
       "      <td>False</td>\n",
       "      <td>11</td>\n",
       "      <td>https://store.terradue.com/download/sentinel1/...</td>\n",
       "      <td>S1A_IW_SLC__1SDV_20161018T163206_20161018T1632...</td>\n",
       "      <td>https://catalog.terradue.com/sentinel1/search?...</td>\n",
       "      <td>7.893120</td>\n",
       "      <td>POLYGON ((19.368031 40.835575, 22.396507 41.23...</td>\n",
       "    </tr>\n",
       "    <tr>\n",
       "      <th>3</th>\n",
       "      <td>100.000000</td>\n",
       "      <td>True</td>\n",
       "      <td>12</td>\n",
       "      <td>https://store.terradue.com/download/sentinel1/...</td>\n",
       "      <td>S1A_IW_SLC__1SDV_20161018T163141_20161018T1632...</td>\n",
       "      <td>https://catalog.terradue.com/sentinel1/search?...</td>\n",
       "      <td>99.881697</td>\n",
       "      <td>POLYGON ((19.736567 39.342892, 22.70108 39.744...</td>\n",
       "    </tr>\n",
       "    <tr>\n",
       "      <th>4</th>\n",
       "      <td>0.000000</td>\n",
       "      <td>False</td>\n",
       "      <td>12</td>\n",
       "      <td>https://store.terradue.com/download/sentinel1/...</td>\n",
       "      <td>S1A_IW_SLC__1SDV_20161018T163116_20161018T1631...</td>\n",
       "      <td>https://catalog.terradue.com/sentinel1/search?...</td>\n",
       "      <td>7.974487</td>\n",
       "      <td>POLYGON ((20.105968 37.850845, 23.007288 38.25...</td>\n",
       "    </tr>\n",
       "    <tr>\n",
       "      <th>5</th>\n",
       "      <td>0.000000</td>\n",
       "      <td>False</td>\n",
       "      <td>23</td>\n",
       "      <td>https://store.terradue.com/download/sentinel1/...</td>\n",
       "      <td>S1A_IW_SLC__1SDV_20161006T163206_20161006T1632...</td>\n",
       "      <td>https://catalog.terradue.com/sentinel1/search?...</td>\n",
       "      <td>7.933108</td>\n",
       "      <td>POLYGON ((19.367752 40.834766, 22.396078 41.23...</td>\n",
       "    </tr>\n",
       "    <tr>\n",
       "      <th>6</th>\n",
       "      <td>100.000000</td>\n",
       "      <td>True</td>\n",
       "      <td>24</td>\n",
       "      <td>https://store.terradue.com/download/sentinel1/...</td>\n",
       "      <td>S1A_IW_SLC__1SDV_20161006T163141_20161006T1632...</td>\n",
       "      <td>https://catalog.terradue.com/sentinel1/search?...</td>\n",
       "      <td>99.917743</td>\n",
       "      <td>POLYGON ((19.736254 39.342201, 22.700668 39.74...</td>\n",
       "    </tr>\n",
       "    <tr>\n",
       "      <th>7</th>\n",
       "      <td>0.000000</td>\n",
       "      <td>False</td>\n",
       "      <td>24</td>\n",
       "      <td>https://store.terradue.com/download/sentinel1/...</td>\n",
       "      <td>S1A_IW_SLC__1SDV_20161006T163116_20161006T1631...</td>\n",
       "      <td>https://catalog.terradue.com/sentinel1/search?...</td>\n",
       "      <td>7.912009</td>\n",
       "      <td>POLYGON ((20.105749 37.849777, 23.00696 38.252...</td>\n",
       "    </tr>\n",
       "  </tbody>\n",
       "</table>\n",
       "</div>"
      ],
      "text/plain": [
       "   aoi_intersec  contains  days  \\\n",
       "0     68.636837     False     6   \n",
       "1     44.640286     False     6   \n",
       "2      0.000000     False    11   \n",
       "3    100.000000      True    12   \n",
       "4      0.000000     False    12   \n",
       "5      0.000000     False    23   \n",
       "6    100.000000      True    24   \n",
       "7      0.000000     False    24   \n",
       "\n",
       "                                           enclosure  \\\n",
       "0  https://store.terradue.com/download/sentinel1/...   \n",
       "1  https://store.terradue.com/download/sentinel1/...   \n",
       "2  https://store.terradue.com/download/sentinel1/...   \n",
       "3  https://store.terradue.com/download/sentinel1/...   \n",
       "4  https://store.terradue.com/download/sentinel1/...   \n",
       "5  https://store.terradue.com/download/sentinel1/...   \n",
       "6  https://store.terradue.com/download/sentinel1/...   \n",
       "7  https://store.terradue.com/download/sentinel1/...   \n",
       "\n",
       "                                          identifier  \\\n",
       "0  S1B_IW_SLC__1SDV_20161024T163111_20161024T1631...   \n",
       "1  S1B_IW_SLC__1SDV_20161024T163046_20161024T1631...   \n",
       "2  S1A_IW_SLC__1SDV_20161018T163206_20161018T1632...   \n",
       "3  S1A_IW_SLC__1SDV_20161018T163141_20161018T1632...   \n",
       "4  S1A_IW_SLC__1SDV_20161018T163116_20161018T1631...   \n",
       "5  S1A_IW_SLC__1SDV_20161006T163206_20161006T1632...   \n",
       "6  S1A_IW_SLC__1SDV_20161006T163141_20161006T1632...   \n",
       "7  S1A_IW_SLC__1SDV_20161006T163116_20161006T1631...   \n",
       "\n",
       "                                                self  slave_intersec  \\\n",
       "0  https://catalog.terradue.com/sentinel1/search?...       55.755995   \n",
       "1  https://catalog.terradue.com/sentinel1/search?...       52.199313   \n",
       "2  https://catalog.terradue.com/sentinel1/search?...        7.893120   \n",
       "3  https://catalog.terradue.com/sentinel1/search?...       99.881697   \n",
       "4  https://catalog.terradue.com/sentinel1/search?...        7.974487   \n",
       "5  https://catalog.terradue.com/sentinel1/search?...        7.933108   \n",
       "6  https://catalog.terradue.com/sentinel1/search?...       99.917743   \n",
       "7  https://catalog.terradue.com/sentinel1/search?...        7.912009   \n",
       "\n",
       "                                                 wkt  \n",
       "0  POLYGON ((19.520258 40.118217, 22.542038 40.52...  \n",
       "1  POLYGON ((19.906658 38.567837, 22.860817 38.97...  \n",
       "2  POLYGON ((19.368031 40.835575, 22.396507 41.23...  \n",
       "3  POLYGON ((19.736567 39.342892, 22.70108 39.744...  \n",
       "4  POLYGON ((20.105968 37.850845, 23.007288 38.25...  \n",
       "5  POLYGON ((19.367752 40.834766, 22.396078 41.23...  \n",
       "6  POLYGON ((19.736254 39.342201, 22.700668 39.74...  \n",
       "7  POLYGON ((20.105749 37.849777, 23.00696 38.252...  "
      ]
     },
     "execution_count": 25,
     "metadata": {},
     "output_type": "execute_result"
    }
   ],
   "source": [
    "masters"
   ]
  },
  {
   "cell_type": "markdown",
   "metadata": {},
   "source": [
    "* Select the two masters according to the ranking of AOI coverage and nearest cycles in time"
   ]
  },
  {
   "cell_type": "code",
   "execution_count": 26,
   "metadata": {
    "collapsed": false
   },
   "outputs": [],
   "source": [
    "master_1 = master_search[masters.sort_values(['aoi_intersec', 'days'], ascending=[False, False]).iloc[1].name]\n",
    "master_2 = master_search[masters.sort_values(['aoi_intersec', 'days'], ascending=[False, False]).iloc[0].name]"
   ]
  },
  {
   "cell_type": "code",
   "execution_count": 34,
   "metadata": {
    "collapsed": false
   },
   "outputs": [],
   "source": [
    "s1_identifiers = []\n",
    "s1_references = [] \n",
    "locations = []\n",
    "\n",
    "for product in [slave, master_1, master_2]:\n",
    "    \n",
    "    locations.append([t[::-1] for t in list(loads(product['wkt']).exterior.coords)])\n",
    "    \n",
    "    s1_identifiers.append(product['identifier'])\n",
    "    s1_references.append(product['self'])\n"
   ]
  },
  {
   "cell_type": "markdown",
   "metadata": {},
   "source": [
    "Plot the Sentinel-1 products (slave, master 1 and master 2), the earthquake point and its area of interest"
   ]
  },
  {
   "cell_type": "code",
   "execution_count": 35,
   "metadata": {},
   "outputs": [
    {
     "data": {
      "text/html": [
       "<div style=\"width:100%;\"><div style=\"position:relative;width:100%;height:0;padding-bottom:60%;\"><iframe src=\"data:text/html;charset=utf-8;base64,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\" style=\"position:absolute;width:100%;height:100%;left:0;top:0;border:none !important;\" allowfullscreen webkitallowfullscreen mozallowfullscreen></iframe></div></div>"
      ],
      "text/plain": [
       "<folium.folium.Map at 0x7fcdc557b1d0>"
      ]
     },
     "execution_count": 35,
     "metadata": {},
     "output_type": "execute_result"
    }
   ],
   "source": [
    "lat = loads(eq_search.earthquakes[0].wkt).y\n",
    "lon = loads(eq_search.earthquakes[0].wkt).x\n",
    "\n",
    "zoom_start = 7\n",
    "\n",
    "m = folium.Map(location=[lat, lon], zoom_start=zoom_start)\n",
    "\n",
    "radius = 4\n",
    "folium.CircleMarker(\n",
    "    location=[lat, lon],\n",
    "    radius=radius,\n",
    "    color='#FF0000',\n",
    "    stroke=False,\n",
    "    fill=True,\n",
    "    fill_opacity=0.6,\n",
    "    opacity=1,\n",
    "    popup='{} pixels'.format(radius),\n",
    "    tooltip='I am in pixels',\n",
    ").add_to(m)\n",
    "\n",
    "\n",
    "folium.PolyLine(\n",
    "    locations=np.asarray([t[::-1] for t in list(loads(aoi_wkt).exterior.coords)]).tolist(),\n",
    "    color='#FF0000',\n",
    "    weight=2,\n",
    "    tooltip='Japan flooding',\n",
    ").add_to(m)\n",
    "\n",
    "folium.PolyLine(\n",
    "    locations=locations,\n",
    "    color='orange',\n",
    "    weight=1,\n",
    "    opacity=1,\n",
    "    smooth_factor=0,\n",
    ").add_to(m)\n",
    "\n",
    "m.save(os.path.join('results', '%s_final.html' % eq_search.earthquakes[0].id))\n",
    "\n",
    "m"
   ]
  },
  {
   "cell_type": "code",
   "execution_count": 36,
   "metadata": {
    "collapsed": true
   },
   "outputs": [
    {
     "data": {
      "text/plain": [
       "['https://catalog.terradue.com/sentinel1/search?format=atom&uid=S1A_IW_SLC__1SDV_20161030T163141_20161030T163208_013722_01603F_4094',\n",
       " 'https://catalog.terradue.com/sentinel1/search?format=atom&uid=S1A_IW_SLC__1SDV_20161018T163141_20161018T163208_013547_015AEB_5994',\n",
       " 'https://catalog.terradue.com/sentinel1/search?format=atom&uid=S1A_IW_SLC__1SDV_20161006T163141_20161006T163208_013372_01554F_F08D']"
      ]
     },
     "execution_count": 36,
     "metadata": {},
     "output_type": "execute_result"
    }
   ],
   "source": [
    "s1_references"
   ]
  },
  {
   "cell_type": "code",
   "execution_count": 37,
   "metadata": {},
   "outputs": [],
   "source": [
    "pair_coseismic = [s1_references[0], \n",
    "                 s1_references[1]]\n",
    "\n",
    "pair_preseismic = [s1_references[1], \n",
    "                 s1_references[2]]\n"
   ]
  },
  {
   "cell_type": "code",
   "execution_count": 45,
   "metadata": {},
   "outputs": [
    {
     "name": "stdout",
     "output_type": "stream",
     "text": [
      "aoi_wkt = 'POLYGON ((22.6115 38.4244, 22.6115 39.4244, 21.6115 39.4244, 21.6115 38.4244, 22.6115 38.4244))'\n"
     ]
    }
   ],
   "source": [
    "print ('aoi_wkt = \\'%s\\'' % aoi_wkt)"
   ]
  },
  {
   "cell_type": "code",
   "execution_count": 40,
   "metadata": {},
   "outputs": [
    {
     "name": "stdout",
     "output_type": "stream",
     "text": [
      "pair_coseismic = ['https://catalog.terradue.com/sentinel1/search?format=atom&uid=S1A_IW_SLC__1SDV_20161030T163141_20161030T163208_013722_01603F_4094', 'https://catalog.terradue.com/sentinel1/search?format=atom&uid=S1A_IW_SLC__1SDV_20161018T163141_20161018T163208_013547_015AEB_5994']\n"
     ]
    }
   ],
   "source": [
    "print ('pair_coseismic = %s' % pair_coseismic)"
   ]
  },
  {
   "cell_type": "code",
   "execution_count": 41,
   "metadata": {},
   "outputs": [
    {
     "name": "stdout",
     "output_type": "stream",
     "text": [
      "pair_preseismic = ['https://catalog.terradue.com/sentinel1/search?format=atom&uid=S1A_IW_SLC__1SDV_20161018T163141_20161018T163208_013547_015AEB_5994', 'https://catalog.terradue.com/sentinel1/search?format=atom&uid=S1A_IW_SLC__1SDV_20161006T163141_20161006T163208_013372_01554F_F08D']\n"
     ]
    }
   ],
   "source": [
    "print ('pair_preseismic = %s' % pair_preseismic)"
   ]
  },
  {
   "cell_type": "code",
   "execution_count": null,
   "metadata": {},
   "outputs": [],
   "source": []
  }
 ],
 "metadata": {
  "kernelspec": {
   "display_name": "Python 2",
   "language": "python",
   "name": "python2"
  },
  "language_info": {
   "codemirror_mode": {
    "name": "ipython",
    "version": 2
   },
   "file_extension": ".py",
   "mimetype": "text/x-python",
   "name": "python",
   "nbconvert_exporter": "python",
   "pygments_lexer": "ipython2",
   "version": "2.7.12"
  }
 },
 "nbformat": 4,
 "nbformat_minor": 2
}
