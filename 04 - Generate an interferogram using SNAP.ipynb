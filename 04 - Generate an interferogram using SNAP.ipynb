{
 "cells": [
  {
   "cell_type": "markdown",
   "metadata": {
    "slideshow": {
     "slide_type": "skip"
    }
   },
   "source": [
    "## 04 - Generate and interferogram using SNAP"
   ]
  },
  {
   "cell_type": "markdown",
   "metadata": {
    "slideshow": {
     "slide_type": "slide"
    }
   },
   "source": [
    "### Quick link\n",
    "\n",
    "* [Objective](#objective)\n",
    "* [Test Site](#test-site)\n",
    "* [Context](#context)\n",
    "* [Applicability](#applicability)\n",
    "* [Data](#data)\n",
    "* [Service Definition](#service)\n",
    "* [Parameter Definition](#parameter)\n",
    "* [Runtime Parameter Definition](#runtime)\n",
    "* [Workflow](#workflow)\n",
    "* [Strengths and Limitations](#strengths-limitations) \n",
    "* [License](#license)"
   ]
  },
  {
   "cell_type": "markdown",
   "metadata": {
    "slideshow": {
     "slide_type": "slide"
    }
   },
   "source": [
    "### <a name=\"objective\">Objective \n",
    "\n",
    "\n"
   ]
  },
  {
   "cell_type": "markdown",
   "metadata": {
    "slideshow": {
     "slide_type": "slide"
    }
   },
   "source": [
    "### <a name=\"data\">Data"
   ]
  },
  {
   "cell_type": "markdown",
   "metadata": {
    "slideshow": {
     "slide_type": "subslide"
    }
   },
   "source": [
    "SENTINEL data products are made available systematically and free of charge to all data users including the general public, scientific and commercial users. Radar data will be delivered within an hour of reception for Near Real-Time (NRT) emergency response, within three hours for NRT priority areas and within 24 hours for systematically archived data.\n",
    "\n",
    "All data products are distributed in the SENTINEL Standard Archive Format for Europe (SAFE) format.\n",
    "\n",
    "Data products are available in single polarisation (VV or HH) for Wave mode and dual polarisation (VV+VH or HH+HV) and single polarisation (HH or VV) for SM, IW and EW modes."
   ]
  },
  {
   "cell_type": "code",
   "execution_count": 1,
   "metadata": {
    "collapsed": true
   },
   "outputs": [],
   "source": [
    "input_identifiers = ('S1A_IW_SLC__1SDV_20161018T163206_20161018T163233_013547_015AEB_712A',\n",
    "                     'S1B_IW_SLC__1SDV_20160930T163111_20160930T163139_002301_003E3A_4516')"
   ]
  },
  {
   "cell_type": "markdown",
   "metadata": {
    "slideshow": {
     "slide_type": "slide"
    }
   },
   "source": [
    "**Data path**\n",
    "\n",
    "This path defines where the data is staged-in. "
   ]
  },
  {
   "cell_type": "code",
   "execution_count": 6,
   "metadata": {
    "collapsed": true
   },
   "outputs": [],
   "source": [
    "data_path = \"/workspace/data\""
   ]
  },
  {
   "cell_type": "markdown",
   "metadata": {},
   "source": [
    "### <a name=\"workflow\">Workflow"
   ]
  },
  {
   "cell_type": "markdown",
   "metadata": {},
   "source": [
    "#### Import the packages required for processing the data"
   ]
  },
  {
   "cell_type": "code",
   "execution_count": 7,
   "metadata": {
    "collapsed": true
   },
   "outputs": [],
   "source": [
    "from snappy import jpy\n",
    "from snappy import ProductIO\n",
    "from snappy import GPF\n",
    "from snappy import HashMap\n",
    "\n",
    "import dateutil.parser as parser\n",
    "import gc\n",
    "from datetime import datetime\n",
    "\n",
    "import cioppy\n",
    "\n",
    "import gdal\n",
    "import osr\n",
    "\n",
    "from shapely.wkt import loads\n",
    "from shapely.geometry import box\n",
    "\n",
    "import lxml.etree as etree\n",
    "import numpy as np"
   ]
  },
  {
   "cell_type": "markdown",
   "metadata": {},
   "source": [
    "#### Read the products"
   ]
  },
  {
   "cell_type": "code",
   "execution_count": 8,
   "metadata": {
    "collapsed": false,
    "slideshow": {
     "slide_type": "subslide"
    }
   },
   "outputs": [],
   "source": [
    "s1meta = \"manifest.safe\"\n",
    "\n",
    "for index, s1path in enumerate(input_identifiers):\n",
    "\n",
    "    s1prd= \"%s/%s/%s.SAFE/%s\" % (data_path, s1path, s1path, s1meta)\n",
    "    reader = ProductIO.getProductReader(\"SENTINEL-1\")\n",
    "    \n",
    "    if index == 0:\n",
    "        slave = reader.readProductNodes(s1prd, None)\n",
    "        slave_date = parser.parse(slave.getStartTime().toString()).isoformat()[:19]\n",
    "    else:\n",
    "        master = reader.readProductNodes(s1prd, None)\n",
    "        master_date = parser.parse(slave.getStartTime().toString()).isoformat()[:19]"
   ]
  },
  {
   "cell_type": "markdown",
   "metadata": {},
   "source": [
    "### Apply orbit file"
   ]
  },
  {
   "cell_type": "code",
   "execution_count": 9,
   "metadata": {},
   "outputs": [
    {
     "name": "stdout",
     "output_type": "stream",
     "text": [
      "('orbitType', 'Sentinel Precise (Auto Download)')\n",
      "('polyDegree', '3')\n",
      "('continueOnFail', 'false')\n"
     ]
    }
   ],
   "source": [
    "operator = 'Apply-Orbit-File'\n",
    "\n",
    "op_spi = GPF.getDefaultInstance().getOperatorSpiRegistry().getOperatorSpi(operator)\n",
    "\n",
    "op_params = op_spi.getOperatorDescriptor().getParameterDescriptors()\n",
    "\n",
    "for param in op_params:\n",
    "    print(param.getName(), param.getDefaultValue())"
   ]
  },
  {
   "cell_type": "code",
   "execution_count": 10,
   "metadata": {},
   "outputs": [],
   "source": [
    "\n",
    "parameters = HashMap()\n",
    "\n",
    "parameters.put('orbitType', 'Sentinel Precise (Auto Download)')\n",
    "parameters.put('polyDegree', '3')\n",
    "parameters.put('continueOnFail', 'false')\n",
    "\n",
    "\n",
    "master_orbit = GPF.createProduct(operator,\n",
    "                                 parameters, \n",
    "                                 master)\n",
    "    \n",
    "slave_orbit = GPF.createProduct(operator,\n",
    "                                 parameters, \n",
    "                                 slave)\n",
    "\n"
   ]
  },
  {
   "cell_type": "markdown",
   "metadata": {},
   "source": [
    "### TOPSAR split"
   ]
  },
  {
   "cell_type": "code",
   "execution_count": 11,
   "metadata": {},
   "outputs": [
    {
     "name": "stdout",
     "output_type": "stream",
     "text": [
      "('subswath', None)\n",
      "('selectedPolarisations', None)\n",
      "('firstBurstIndex', '1')\n",
      "('lastBurstIndex', '9999')\n",
      "('wktAoi', None)\n"
     ]
    }
   ],
   "source": [
    "operator = 'TOPSAR-Split'\n",
    "\n",
    "op_spi = GPF.getDefaultInstance().getOperatorSpiRegistry().getOperatorSpi(operator)\n",
    "\n",
    "op_params = op_spi.getOperatorDescriptor().getParameterDescriptors()\n",
    "\n",
    "for param in op_params:\n",
    "    print(param.getName(), param.getDefaultValue())"
   ]
  },
  {
   "cell_type": "code",
   "execution_count": 12,
   "metadata": {},
   "outputs": [],
   "source": [
    "slave_split_prds = []\n",
    "master_split_prds = []\n",
    "\n",
    "for subswath in ['IW1', 'IW2', 'IW3']:  \n",
    "    \n",
    "    parameters = HashMap()\n",
    "\n",
    "    parameters.put('subswath', subswath)\n",
    "    parameters.put('selectedPolarisations', 'VV')\n",
    "    parameters.put('firstBurstIndex', '1')\n",
    "    parameters.put('lastBurstIndex', '9999')\n",
    "\n",
    "    master_split_prds.append(GPF.createProduct(operator,\n",
    "                           parameters, \n",
    "                           master_orbit))   \n",
    "    \n",
    "    slave_split_prds.append(GPF.createProduct(operator,\n",
    "                           parameters, \n",
    "                           slave_orbit))   \n",
    "    "
   ]
  },
  {
   "cell_type": "markdown",
   "metadata": {},
   "source": [
    "### Back-Geocoding"
   ]
  },
  {
   "cell_type": "code",
   "execution_count": 13,
   "metadata": {},
   "outputs": [
    {
     "name": "stdout",
     "output_type": "stream",
     "text": [
      "('demName', 'SRTM 3Sec')\n",
      "('demResamplingMethod', 'BICUBIC_INTERPOLATION')\n",
      "('externalDEMFile', None)\n",
      "('externalDEMNoDataValue', '0')\n",
      "('resamplingType', 'BISINC_5_POINT_INTERPOLATION')\n",
      "('maskOutAreaWithoutElevation', 'true')\n",
      "('outputRangeAzimuthOffset', 'false')\n",
      "('outputDerampDemodPhase', 'false')\n",
      "('disableReramp', 'false')\n"
     ]
    }
   ],
   "source": [
    "operator = 'Back-Geocoding'\n",
    "\n",
    "op_spi = GPF.getDefaultInstance().getOperatorSpiRegistry().getOperatorSpi(operator)\n",
    "\n",
    "op_params = op_spi.getOperatorDescriptor().getParameterDescriptors()\n",
    "\n",
    "for param in op_params:\n",
    "    print(param.getName(), param.getDefaultValue())"
   ]
  },
  {
   "cell_type": "code",
   "execution_count": 14,
   "metadata": {},
   "outputs": [],
   "source": [
    "backgeo_prds = []\n",
    "\n",
    "for index, subswath in enumerate(['IW1', 'IW2', 'IW3']):  \n",
    "    \n",
    "\n",
    "    parameters = HashMap()\n",
    "\n",
    "    for param in op_params:\n",
    "        parameters.put(param.getName(), param.getDefaultValue())\n",
    "\n",
    "\n",
    "    backgeo_prds.append(GPF.createProduct(operator,\n",
    "                           parameters, \n",
    "                           [master_split_prds[index], \n",
    "                            slave_split_prds[index]\n",
    "                           ]))"
   ]
  },
  {
   "cell_type": "markdown",
   "metadata": {},
   "source": [
    "### Interferogram"
   ]
  },
  {
   "cell_type": "code",
   "execution_count": 15,
   "metadata": {},
   "outputs": [
    {
     "name": "stdout",
     "output_type": "stream",
     "text": [
      "('subtractFlatEarthPhase', 'true')\n",
      "('srpPolynomialDegree', '5')\n",
      "('srpNumberPoints', '501')\n",
      "('orbitDegree', '3')\n",
      "('includeCoherence', 'true')\n",
      "('cohWinAz', '10')\n",
      "('cohWinRg', '10')\n",
      "('squarePixel', 'true')\n",
      "('subtractTopographicPhase', 'false')\n",
      "('demName', 'SRTM 3Sec')\n",
      "('externalDEMFile', None)\n",
      "('externalDEMNoDataValue', '0')\n",
      "('externalDEMApplyEGM', 'true')\n",
      "('tileExtensionPercent', '100')\n",
      "('outputElevation', 'false')\n",
      "('outputLatLon', 'false')\n"
     ]
    }
   ],
   "source": [
    "operator = 'Interferogram'\n",
    "\n",
    "op_spi = GPF.getDefaultInstance().getOperatorSpiRegistry().getOperatorSpi(operator)\n",
    "\n",
    "op_params = op_spi.getOperatorDescriptor().getParameterDescriptors()\n",
    "\n",
    "parameters = HashMap()\n",
    "\n",
    "for param in op_params:\n",
    "    print(param.getName(), param.getDefaultValue())\n",
    "    parameters.put(param.getName(), param.getDefaultValue())"
   ]
  },
  {
   "cell_type": "code",
   "execution_count": 16,
   "metadata": {},
   "outputs": [],
   "source": [
    "interferogram_prds = []\n",
    "\n",
    "for index, subswath in enumerate(['IW1', 'IW2', 'IW3']):  \n",
    "    \n",
    "    parameters = HashMap()\n",
    "\n",
    "    for param in op_params:\n",
    "        parameters.put(param.getName(), param.getDefaultValue())\n",
    "\n",
    "    interferogram_prds.append(GPF.createProduct(operator,\n",
    "                           parameters, \n",
    "                           backgeo_prds[index]))"
   ]
  },
  {
   "cell_type": "markdown",
   "metadata": {},
   "source": [
    "#### TOPSAR Deburst"
   ]
  },
  {
   "cell_type": "code",
   "execution_count": 17,
   "metadata": {},
   "outputs": [
    {
     "name": "stdout",
     "output_type": "stream",
     "text": [
      "('selectedPolarisations', None)\n"
     ]
    }
   ],
   "source": [
    "operator = 'TOPSAR-Deburst'\n",
    "\n",
    "op_spi = GPF.getDefaultInstance().getOperatorSpiRegistry().getOperatorSpi(operator)\n",
    "\n",
    "op_params = op_spi.getOperatorDescriptor().getParameterDescriptors()\n",
    "\n",
    "for param in op_params:\n",
    "    print(param.getName(), param.getDefaultValue())\n"
   ]
  },
  {
   "cell_type": "code",
   "execution_count": 18,
   "metadata": {},
   "outputs": [],
   "source": [
    "deburst_prds = []\n",
    "\n",
    "for index, subswath in enumerate(['IW1', 'IW2', 'IW3']):  \n",
    " \n",
    "    parameters = HashMap()\n",
    "    parameters.put('selectedPolarisations', 'VV')\n",
    "\n",
    "    deburst_prds.append(GPF.createProduct(operator,\n",
    "                           parameters, \n",
    "                           interferogram_prds[index]))"
   ]
  },
  {
   "cell_type": "markdown",
   "metadata": {},
   "source": [
    "#### TOPSAR Merge"
   ]
  },
  {
   "cell_type": "code",
   "execution_count": 19,
   "metadata": {},
   "outputs": [
    {
     "name": "stdout",
     "output_type": "stream",
     "text": [
      "('selectedPolarisations', None)\n"
     ]
    }
   ],
   "source": [
    "operator = 'TOPSAR-Merge'\n",
    "\n",
    "op_spi = GPF.getDefaultInstance().getOperatorSpiRegistry().getOperatorSpi(operator)\n",
    "\n",
    "op_params = op_spi.getOperatorDescriptor().getParameterDescriptors()\n",
    "\n",
    "for param in op_params:\n",
    "    print(param.getName(), param.getDefaultValue())"
   ]
  },
  {
   "cell_type": "code",
   "execution_count": 20,
   "metadata": {},
   "outputs": [],
   "source": [
    "parameters = HashMap()\n",
    "parameters.put('selectedPolarisations', 'VV')\n",
    "\n",
    "tops_merge = GPF.createProduct(operator,\n",
    "                           parameters, \n",
    "                           deburst_prds)\n"
   ]
  },
  {
   "cell_type": "markdown",
   "metadata": {},
   "source": [
    "#### TopoPhaseRemoval"
   ]
  },
  {
   "cell_type": "code",
   "execution_count": 21,
   "metadata": {},
   "outputs": [
    {
     "name": "stdout",
     "output_type": "stream",
     "text": [
      "('orbitDegree', '3')\n",
      "('demName', 'SRTM 3Sec')\n",
      "('externalDEMFile', None)\n",
      "('externalDEMNoDataValue', '0')\n",
      "('tileExtensionPercent', '100')\n",
      "('outputTopoPhaseBand', 'false')\n",
      "('outputElevationBand', 'false')\n",
      "('outputLatLonBands', 'false')\n"
     ]
    }
   ],
   "source": [
    "operator = 'TopoPhaseRemoval'\n",
    "\n",
    "op_spi = GPF.getDefaultInstance().getOperatorSpiRegistry().getOperatorSpi(operator)\n",
    "\n",
    "op_params = op_spi.getOperatorDescriptor().getParameterDescriptors()\n",
    "\n",
    "for param in op_params:\n",
    "    print(param.getName(), param.getDefaultValue())"
   ]
  },
  {
   "cell_type": "code",
   "execution_count": 22,
   "metadata": {},
   "outputs": [],
   "source": [
    "parameters = HashMap()\n",
    "\n",
    "for param in op_params:\n",
    "    parameters.put(param.getName(), param.getDefaultValue())\n",
    "\n",
    "\n",
    "topo_phase = GPF.createProduct(operator,\n",
    "                  parameters, \n",
    "                  tops_merge)"
   ]
  },
  {
   "cell_type": "markdown",
   "metadata": {},
   "source": [
    "#### GoldsteinPhaseFiltering"
   ]
  },
  {
   "cell_type": "code",
   "execution_count": 23,
   "metadata": {},
   "outputs": [
    {
     "name": "stdout",
     "output_type": "stream",
     "text": [
      "('alpha', '1.0')\n",
      "('FFTSizeString', '64')\n",
      "('windowSizeString', '3')\n",
      "('useCoherenceMask', 'false')\n",
      "('coherenceThreshold', '0.2')\n"
     ]
    }
   ],
   "source": [
    "operator = 'GoldsteinPhaseFiltering'\n",
    "\n",
    "op_spi = GPF.getDefaultInstance().getOperatorSpiRegistry().getOperatorSpi(operator)\n",
    "\n",
    "op_params = op_spi.getOperatorDescriptor().getParameterDescriptors()\n",
    "\n",
    "for param in op_params:\n",
    "    print(param.getName(), param.getDefaultValue())"
   ]
  },
  {
   "cell_type": "code",
   "execution_count": 24,
   "metadata": {},
   "outputs": [],
   "source": [
    "parameters = HashMap()\n",
    "\n",
    "for param in op_params:\n",
    "    parameters.put(param.getName(), param.getDefaultValue())\n",
    "\n",
    "\n",
    "goldstein = GPF.createProduct(operator,\n",
    "                  parameters, \n",
    "                  topo_phase)"
   ]
  },
  {
   "cell_type": "markdown",
   "metadata": {},
   "source": [
    "#### Terrain correction"
   ]
  },
  {
   "cell_type": "code",
   "execution_count": 25,
   "metadata": {},
   "outputs": [
    {
     "name": "stdout",
     "output_type": "stream",
     "text": [
      "('sourceBandNames', None)\n",
      "('demName', 'SRTM 3Sec')\n",
      "('externalDEMFile', None)\n",
      "('externalDEMNoDataValue', '0')\n",
      "('externalDEMApplyEGM', 'true')\n",
      "('demResamplingMethod', 'BILINEAR_INTERPOLATION')\n",
      "('imgResamplingMethod', 'BILINEAR_INTERPOLATION')\n",
      "('pixelSpacingInMeter', '0')\n",
      "('pixelSpacingInDegree', '0')\n",
      "('mapProjection', 'WGS84(DD)')\n",
      "('alignToStandardGrid', 'false')\n",
      "('standardGridOriginX', '0')\n",
      "('standardGridOriginY', '0')\n",
      "('nodataValueAtSea', 'true')\n",
      "('saveDEM', 'false')\n",
      "('saveLatLon', 'false')\n",
      "('saveIncidenceAngleFromEllipsoid', 'false')\n",
      "('saveLocalIncidenceAngle', 'false')\n",
      "('saveProjectedLocalIncidenceAngle', 'false')\n",
      "('saveSelectedSourceBand', 'true')\n",
      "('outputComplex', 'false')\n",
      "('applyRadiometricNormalization', 'false')\n",
      "('saveSigmaNought', 'false')\n",
      "('saveGammaNought', 'false')\n",
      "('saveBetaNought', 'false')\n",
      "('incidenceAngleForSigma0', 'Use projected local incidence angle from DEM')\n",
      "('incidenceAngleForGamma0', 'Use projected local incidence angle from DEM')\n",
      "('auxFile', 'Latest Auxiliary File')\n",
      "('externalAuxFile', None)\n"
     ]
    }
   ],
   "source": [
    "operator = 'Terrain-Correction'\n",
    "\n",
    "op_spi = GPF.getDefaultInstance().getOperatorSpiRegistry().getOperatorSpi(operator)\n",
    "\n",
    "op_params = op_spi.getOperatorDescriptor().getParameterDescriptors()\n",
    "\n",
    "for param in op_params:\n",
    "    print(param.getName(), param.getDefaultValue())"
   ]
  },
  {
   "cell_type": "code",
   "execution_count": 26,
   "metadata": {},
   "outputs": [],
   "source": [
    "parameters = HashMap()\n",
    "\n",
    "for param in op_params:\n",
    "    parameters.put(param.getName(), param.getDefaultValue())\n",
    "\n",
    "\n",
    "terrain = GPF.createProduct(operator,\n",
    "                  parameters, \n",
    "                  goldstein)"
   ]
  },
  {
   "cell_type": "code",
   "execution_count": null,
   "metadata": {},
   "outputs": [],
   "source": [
    "ProductIO.writeProduct(terrain, \n",
    "                       'output_name' + '.tif',\n",
    "                       'GeoTIFF-BigTIFF')"
   ]
  },
  {
   "cell_type": "markdown",
   "metadata": {
    "slideshow": {
     "slide_type": "slide"
    }
   },
   "source": [
    "### License"
   ]
  },
  {
   "cell_type": "markdown",
   "metadata": {
    "slideshow": {
     "slide_type": "subslide"
    }
   },
   "source": [
    "This work is licenced under a [Attribution-ShareAlike 4.0 International License (CC BY-SA 4.0)](http://creativecommons.org/licenses/by-sa/4.0/) \n",
    "\n",
    "YOU ARE FREE TO:\n",
    "\n",
    "* Share - copy and redistribute the material in any medium or format.\n",
    "* Adapt - remix, transform, and built upon the material for any purpose, even commercially.\n",
    "\n",
    "UNDER THE FOLLOWING TERMS:\n",
    "\n",
    "* Attribution - You must give appropriate credit, provide a link to the license, and indicate if changes were made. You may do so in any reasonable manner, but not in any way that suggests the licensor endorses you or your use.\n",
    "* ShareAlike - If you remix, transform, or build upon the material, you must distribute your contributions under the same license as the original."
   ]
  }
 ],
 "metadata": {
  "kernelspec": {
   "display_name": "Python 2",
   "language": "python",
   "name": "python2"
  },
  "language_info": {
   "codemirror_mode": {
    "name": "ipython",
    "version": 2
   },
   "file_extension": ".py",
   "mimetype": "text/x-python",
   "name": "python",
   "nbconvert_exporter": "python",
   "pygments_lexer": "ipython2",
   "version": "2.7.12"
  }
 },
 "nbformat": 4,
 "nbformat_minor": 2
}
